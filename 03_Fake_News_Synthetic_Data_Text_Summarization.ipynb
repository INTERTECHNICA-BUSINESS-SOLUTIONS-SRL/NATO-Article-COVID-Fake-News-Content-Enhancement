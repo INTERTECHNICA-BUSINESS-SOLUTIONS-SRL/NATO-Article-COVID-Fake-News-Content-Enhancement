{
  "cells": [
    {
      "cell_type": "code",
      "execution_count": 1,
      "metadata": {
        "colab": {
          "base_uri": "https://localhost:8080/"
        },
        "id": "xipDY2_7MA1i",
        "outputId": "523af448-3292-4994-99d5-8994ac37e0ef"
      },
      "outputs": [
        {
          "output_type": "stream",
          "name": "stdout",
          "text": [
            "Looking in indexes: https://pypi.org/simple, https://us-python.pkg.dev/colab-wheels/public/simple/\n",
            "Requirement already satisfied: requests_cache in /usr/local/lib/python3.9/dist-packages (1.0.1)\n",
            "Requirement already satisfied: cattrs>=22.2 in /usr/local/lib/python3.9/dist-packages (from requests_cache) (22.2.0)\n",
            "Requirement already satisfied: platformdirs>=2.5 in /usr/local/lib/python3.9/dist-packages (from requests_cache) (3.2.0)\n",
            "Requirement already satisfied: attrs>=21.2 in /usr/local/lib/python3.9/dist-packages (from requests_cache) (23.1.0)\n",
            "Requirement already satisfied: requests>=2.22 in /usr/local/lib/python3.9/dist-packages (from requests_cache) (2.27.1)\n",
            "Requirement already satisfied: urllib3>=1.25.5 in /usr/local/lib/python3.9/dist-packages (from requests_cache) (1.26.15)\n",
            "Requirement already satisfied: url-normalize>=1.4 in /usr/local/lib/python3.9/dist-packages (from requests_cache) (1.4.3)\n",
            "Requirement already satisfied: exceptiongroup in /usr/local/lib/python3.9/dist-packages (from cattrs>=22.2->requests_cache) (1.1.1)\n",
            "Requirement already satisfied: idna<4,>=2.5 in /usr/local/lib/python3.9/dist-packages (from requests>=2.22->requests_cache) (3.4)\n",
            "Requirement already satisfied: certifi>=2017.4.17 in /usr/local/lib/python3.9/dist-packages (from requests>=2.22->requests_cache) (2022.12.7)\n",
            "Requirement already satisfied: charset-normalizer~=2.0.0 in /usr/local/lib/python3.9/dist-packages (from requests>=2.22->requests_cache) (2.0.12)\n",
            "Requirement already satisfied: six in /usr/local/lib/python3.9/dist-packages (from url-normalize>=1.4->requests_cache) (1.16.0)\n",
            "Looking in indexes: https://pypi.org/simple, https://us-python.pkg.dev/colab-wheels/public/simple/\n",
            "Requirement already satisfied: torch in /usr/local/lib/python3.9/dist-packages (2.0.0+cu118)\n",
            "Requirement already satisfied: sympy in /usr/local/lib/python3.9/dist-packages (from torch) (1.11.1)\n",
            "Requirement already satisfied: filelock in /usr/local/lib/python3.9/dist-packages (from torch) (3.11.0)\n",
            "Requirement already satisfied: typing-extensions in /usr/local/lib/python3.9/dist-packages (from torch) (4.5.0)\n",
            "Requirement already satisfied: networkx in /usr/local/lib/python3.9/dist-packages (from torch) (3.1)\n",
            "Requirement already satisfied: jinja2 in /usr/local/lib/python3.9/dist-packages (from torch) (3.1.2)\n",
            "Requirement already satisfied: triton==2.0.0 in /usr/local/lib/python3.9/dist-packages (from torch) (2.0.0)\n",
            "Requirement already satisfied: lit in /usr/local/lib/python3.9/dist-packages (from triton==2.0.0->torch) (16.0.1)\n",
            "Requirement already satisfied: cmake in /usr/local/lib/python3.9/dist-packages (from triton==2.0.0->torch) (3.25.2)\n",
            "Requirement already satisfied: MarkupSafe>=2.0 in /usr/local/lib/python3.9/dist-packages (from jinja2->torch) (2.1.2)\n",
            "Requirement already satisfied: mpmath>=0.19 in /usr/local/lib/python3.9/dist-packages (from sympy->torch) (1.3.0)\n",
            "Looking in indexes: https://pypi.org/simple, https://us-python.pkg.dev/colab-wheels/public/simple/\n",
            "Requirement already satisfied: transformers in /usr/local/lib/python3.9/dist-packages (4.28.1)\n",
            "Requirement already satisfied: filelock in /usr/local/lib/python3.9/dist-packages (from transformers) (3.11.0)\n",
            "Requirement already satisfied: numpy>=1.17 in /usr/local/lib/python3.9/dist-packages (from transformers) (1.22.4)\n",
            "Requirement already satisfied: pyyaml>=5.1 in /usr/local/lib/python3.9/dist-packages (from transformers) (6.0)\n",
            "Requirement already satisfied: tqdm>=4.27 in /usr/local/lib/python3.9/dist-packages (from transformers) (4.65.0)\n",
            "Requirement already satisfied: tokenizers!=0.11.3,<0.14,>=0.11.1 in /usr/local/lib/python3.9/dist-packages (from transformers) (0.13.3)\n",
            "Requirement already satisfied: requests in /usr/local/lib/python3.9/dist-packages (from transformers) (2.27.1)\n",
            "Requirement already satisfied: regex!=2019.12.17 in /usr/local/lib/python3.9/dist-packages (from transformers) (2022.10.31)\n",
            "Requirement already satisfied: packaging>=20.0 in /usr/local/lib/python3.9/dist-packages (from transformers) (23.1)\n",
            "Requirement already satisfied: huggingface-hub<1.0,>=0.11.0 in /usr/local/lib/python3.9/dist-packages (from transformers) (0.14.0)\n",
            "Requirement already satisfied: typing-extensions>=3.7.4.3 in /usr/local/lib/python3.9/dist-packages (from huggingface-hub<1.0,>=0.11.0->transformers) (4.5.0)\n",
            "Requirement already satisfied: fsspec in /usr/local/lib/python3.9/dist-packages (from huggingface-hub<1.0,>=0.11.0->transformers) (2023.4.0)\n",
            "Requirement already satisfied: urllib3<1.27,>=1.21.1 in /usr/local/lib/python3.9/dist-packages (from requests->transformers) (1.26.15)\n",
            "Requirement already satisfied: certifi>=2017.4.17 in /usr/local/lib/python3.9/dist-packages (from requests->transformers) (2022.12.7)\n",
            "Requirement already satisfied: charset-normalizer~=2.0.0 in /usr/local/lib/python3.9/dist-packages (from requests->transformers) (2.0.12)\n",
            "Requirement already satisfied: idna<4,>=2.5 in /usr/local/lib/python3.9/dist-packages (from requests->transformers) (3.4)\n",
            "Looking in indexes: https://pypi.org/simple, https://us-python.pkg.dev/colab-wheels/public/simple/\n",
            "Requirement already satisfied: SentencePiece in /usr/local/lib/python3.9/dist-packages (0.1.98)\n"
          ]
        }
      ],
      "source": [
        "!pip3 install requests_cache\n",
        "!pip3 install torch\n",
        "!pip3 install transformers\n",
        "!pip3 install SentencePiece"
      ]
    },
    {
      "cell_type": "code",
      "execution_count": 2,
      "metadata": {
        "id": "SjGozYxJN4V0"
      },
      "outputs": [],
      "source": [
        "# import standard libraries\n",
        "import random\n",
        "import os\n",
        "import io\n",
        "import zipfile\n",
        "import requests as rq\n",
        "import requests_cache as rqc\n",
        "import numpy as np\n",
        "import pandas as pd\n",
        "import torch as pt\n",
        "import transformers as tsf\n",
        "import matplotlib.pyplot as plt\n",
        "import seaborn as sns\n",
        "\n",
        "from tqdm.notebook import tqdm"
      ]
    },
    {
      "cell_type": "code",
      "execution_count": 3,
      "metadata": {
        "colab": {
          "base_uri": "https://localhost:8080/"
        },
        "id": "iPaKVEo94jOu",
        "outputId": "957aaab5-af85-4b74-9135-f51decff76f1"
      },
      "outputs": [
        {
          "output_type": "stream",
          "name": "stdout",
          "text": [
            "ENVIRONMENT INFORMATION\n",
            "Using numpy version 1.22.4\n",
            "Using pandas version 1.5.3\n",
            "Using pytorch version 2.0.0+cu118\n",
            "Using transformers version 4.28.1\n"
          ]
        }
      ],
      "source": [
        "# print environment information\n",
        "print(\"ENVIRONMENT INFORMATION\")\n",
        "print(\"Using numpy version %s\" % np.__version__)\n",
        "print(\"Using pandas version %s\" % pd.__version__)\n",
        "print(\"Using pytorch version %s\" % pt.__version__)\n",
        "print(\"Using transformers version %s\" % tsf.__version__)"
      ]
    },
    {
      "cell_type": "code",
      "execution_count": 4,
      "metadata": {
        "id": "rLFwKfxa4fUa",
        "colab": {
          "base_uri": "https://localhost:8080/"
        },
        "outputId": "1bbcf6fa-565e-4f55-bb5f-018701f98934"
      },
      "outputs": [
        {
          "output_type": "stream",
          "name": "stdout",
          "text": [
            "Using GPU acceleration\n",
            "Tue Apr 25 12:25:37 2023       \n",
            "+-----------------------------------------------------------------------------+\n",
            "| NVIDIA-SMI 525.85.12    Driver Version: 525.85.12    CUDA Version: 12.0     |\n",
            "|-------------------------------+----------------------+----------------------+\n",
            "| GPU  Name        Persistence-M| Bus-Id        Disp.A | Volatile Uncorr. ECC |\n",
            "| Fan  Temp  Perf  Pwr:Usage/Cap|         Memory-Usage | GPU-Util  Compute M. |\n",
            "|                               |                      |               MIG M. |\n",
            "|===============================+======================+======================|\n",
            "|   0  Tesla T4            Off  | 00000000:00:04.0 Off |                    0 |\n",
            "| N/A   61C    P8    11W /  70W |      3MiB / 15360MiB |      0%      Default |\n",
            "|                               |                      |                  N/A |\n",
            "+-------------------------------+----------------------+----------------------+\n",
            "                                                                               \n",
            "+-----------------------------------------------------------------------------+\n",
            "| Processes:                                                                  |\n",
            "|  GPU   GI   CI        PID   Type   Process name                  GPU Memory |\n",
            "|        ID   ID                                                   Usage      |\n",
            "|=============================================================================|\n",
            "|  No running processes found                                                 |\n",
            "+-----------------------------------------------------------------------------+\n"
          ]
        }
      ],
      "source": [
        "# determine available device\n",
        "device = pt.device(\"cpu\")\n",
        "if pt.cuda.is_available() :\n",
        "  device = pt.device(\"cuda\")\n",
        "  print(\"Using GPU acceleration\")\n",
        "  ! nvidia-smi\n",
        "else:\n",
        "  print(\"NOT using GPU acceleration\")"
      ]
    },
    {
      "cell_type": "code",
      "execution_count": 5,
      "metadata": {
        "id": "xaxXJOH791VF"
      },
      "outputs": [],
      "source": [
        "# global configuration\n",
        "LLM_MODEL_GENERATOR = \"gpt2\"\n",
        "LLM_MODEL_SUMMARIZER = \"google/pegasus-cnn_dailymail\"\n",
        "TITLE_TEXT_SEPARATOR = \"|||\"\n",
        "SUMMARIZATION_MAX_LENGTH = 32\n",
        "TOKENIZATION_MAX_LENGTH = 1024\n",
        "TOKENIZATION_TEXT_GENERATION_MAX_LENGTH = 256\n",
        "MAXIMUM_SUMMARIZATION_SAMPLES_TO_GENERATE = 2"
      ]
    },
    {
      "cell_type": "code",
      "execution_count": 6,
      "metadata": {
        "id": "hn0VAahq5wv-"
      },
      "outputs": [],
      "source": [
        "# global initialization - reproducibility\n",
        "random.seed(10)\n",
        "np.random.seed(10)\n",
        "pt.manual_seed(10)\n",
        "\n",
        "# initialize tqdm for pandas usage\n",
        "tqdm.pandas()\n",
        "\n",
        "# disable unimportant warnings\n",
        "os.environ[\"HF_HUB_DISABLE_SYMLINKS_WARNING\"] = \"1\""
      ]
    },
    {
      "cell_type": "code",
      "execution_count": 7,
      "metadata": {
        "id": "0Vu-JmNGDAwX"
      },
      "outputs": [],
      "source": [
        "\"\"\" Reads the data from a remote zip file \"\"\"\n",
        "def get_data_from_remote_zip_file(file_url, file_name):\n",
        "\n",
        "  response = rqc.CachedSession().get(file_url)\n",
        "  binary_data = io.BytesIO(response.content)\n",
        "\n",
        "  raw_data = None\n",
        "\n",
        "  with zipfile.ZipFile(binary_data) as z:\n",
        "    with z.open(file_name) as f:\n",
        "      raw_data = pd.read_csv(f)\n",
        "      \n",
        "  return raw_data"
      ]
    },
    {
      "cell_type": "code",
      "execution_count": 8,
      "metadata": {
        "id": "3hfzxLwREiZb"
      },
      "outputs": [],
      "source": [
        "# URL and FILE NAME for fake news data\n",
        "PROCESSED_FAKE_NEWS_URL = \"https://github.com/INTERTECHNICA-BUSINESS-SOLUTIONS-SRL/NATO-Article-COVID-Fake-News-Content-Enhancement/raw/main/data/processed/fake_news_data_preprocessed.zip\"\n",
        "PROCESSED_FAKE_NEWS_FILE_NAME = \"fake_news_data_preprocessed.csv\"\n",
        "\n",
        "# obtain the fake news dataframe\n",
        "fake_news_data_frame = get_data_from_remote_zip_file(PROCESSED_FAKE_NEWS_URL, PROCESSED_FAKE_NEWS_FILE_NAME)"
      ]
    },
    {
      "cell_type": "code",
      "execution_count": 25,
      "metadata": {
        "id": "HipCr-qy5wwC"
      },
      "outputs": [],
      "source": [
        "# we plan to use the generated text as an input for standard LLM for conditional\n",
        "# text generation, so we would like to evaluate the length of current fake news\n",
        "# texts from the perspective of the number of associated tokens\n",
        "text_generation_tokenizer = tsf.AutoTokenizer.from_pretrained(LLM_MODEL_GENERATOR, use_fast = True)\n",
        "\n",
        "# create the tokenizer and model used for summarization\n",
        "text_summarization_tokenizer = tsf.AutoTokenizer.from_pretrained(LLM_MODEL_SUMMARIZER, use_fast = True)\n",
        "text_summarization_model = tsf.AutoModelForSeq2SeqLM.from_pretrained(LLM_MODEL_SUMMARIZER).to(device)"
      ]
    },
    {
      "cell_type": "code",
      "execution_count": 10,
      "metadata": {
        "id": "QSXfK9d1_iLk"
      },
      "outputs": [],
      "source": [
        "\"\"\"Retrieve the length of a text tokenization sequence\"\"\"\n",
        "def get_tokenization_length(tokenizer, text) :\n",
        "  tokens = tokenizer(text, max_length = 1024, truncation = True)\n",
        "  \n",
        "  return len(tokens[\"input_ids\"])\n",
        "\n",
        "standard_tokenization_length = lambda text : get_tokenization_length(\n",
        "    text_generation_tokenizer,\n",
        "    text\n",
        ")\n"
      ]
    },
    {
      "cell_type": "code",
      "execution_count": 11,
      "metadata": {
        "id": "GBUQ-OXT5wwF"
      },
      "outputs": [],
      "source": [
        "# get the distribution for the tokenization length \n",
        "tokenization_length_distribution = fake_news_data_frame[\"text\"].apply(standard_tokenization_length)"
      ]
    },
    {
      "cell_type": "code",
      "execution_count": 12,
      "metadata": {
        "id": "jLXV1XOA5wwG",
        "outputId": "60ff6b35-a761-48c1-a1c0-7b06e052d532",
        "colab": {
          "base_uri": "https://localhost:8080/"
        }
      },
      "outputs": [
        {
          "output_type": "stream",
          "name": "stdout",
          "text": [
            "Number of text tokens basic statistics: \n",
            "count    1056.000000\n",
            "mean      601.765152\n",
            "std       321.243933\n",
            "min        21.000000\n",
            "25%       320.750000\n",
            "50%       586.000000\n",
            "75%       986.000000\n",
            "max      1024.000000\n",
            "Name: text, dtype: float64\n"
          ]
        }
      ],
      "source": [
        "print(\"Number of text tokens basic statistics: \")\n",
        "print(tokenization_length_distribution.describe())"
      ]
    },
    {
      "cell_type": "code",
      "execution_count": 13,
      "metadata": {
        "id": "NLBQGIwk5wwH",
        "outputId": "1fd5a617-54e9-4d2e-dc28-32126668376a",
        "colab": {
          "base_uri": "https://localhost:8080/"
        }
      },
      "outputs": [
        {
          "output_type": "stream",
          "name": "stdout",
          "text": [
            "Number of text tokens series deciles: \n"
          ]
        },
        {
          "output_type": "execute_result",
          "data": {
            "text/plain": [
              "0.0      21.0\n",
              "0.1     177.0\n",
              "0.2     283.0\n",
              "0.3     358.0\n",
              "0.4     463.0\n",
              "0.5     586.0\n",
              "0.6     690.0\n",
              "0.7     869.0\n",
              "0.8    1024.0\n",
              "0.9    1024.0\n",
              "Name: text, dtype: float64"
            ]
          },
          "metadata": {},
          "execution_count": 13
        }
      ],
      "source": [
        "print(\"Number of text tokens series deciles: \")\n",
        "tokenization_length_distribution.quantile(np.arange(0, 1, 0.1))"
      ]
    },
    {
      "cell_type": "code",
      "execution_count": 14,
      "metadata": {
        "id": "YfMTv7-D5wwI",
        "outputId": "6a18e1ba-4681-4dc6-e00e-ce25779d7280",
        "colab": {
          "base_uri": "https://localhost:8080/",
          "height": 536
        }
      },
      "outputs": [
        {
          "output_type": "display_data",
          "data": {
            "text/plain": [
              "<Figure size 640x480 with 1 Axes>"
            ],
            "image/png": "[encoded data removed]"
          },
          "metadata": {}
        }
      ],
      "source": [
        "# plot the distribution length\n",
        "plt.rcParams[\"patch.force_edgecolor\"] = False\n",
        "\n",
        "plt.rcParams['patch.edgecolor'] = 'none'\n",
        "\n",
        "sns.histplot(\n",
        "    tokenization_length_distribution.values, \n",
        "    color = \"#D6000D\", \n",
        "    alpha = 0.15, \n",
        "    element = \"poly\", \n",
        "    bins = 10\n",
        "  )\n",
        "\n",
        "plt.legend(\n",
        "    [\"Number of tokens\"],\n",
        "    loc = 'lower left',\n",
        "    bbox_to_anchor = (0, -0.25),\n",
        "    ncol = 1,\n",
        "    framealpha = 0,\n",
        "    fontsize = 15\n",
        "  )\n",
        "\n",
        "plt.title(\"Distribution of text tokens length for fake news \\n\", fontsize = 15)\n",
        "\n",
        "plt.show()"
      ]
    },
    {
      "cell_type": "code",
      "execution_count": 26,
      "metadata": {
        "id": "Ukgacp5B5wwK"
      },
      "outputs": [],
      "source": [
        "# calculate the legth needed by the text separator\n",
        "text_separator_tokenization_length = get_tokenization_length(text_generation_tokenizer, TITLE_TEXT_SEPARATOR)\n",
        "\n",
        "# from the maximum fake news story tokens we will subtract the \n",
        "# tokens needed for fake news story title summarization and the \n",
        "# title-text separator string (we will call it the safe length)\n",
        "# we should generate text covering at least 75% and at most 90% of the safe \n",
        "#length (in case we will use another LLM to correct the summarized text) \n",
        "text_summarization_safe_length = int(TOKENIZATION_TEXT_GENERATION_MAX_LENGTH - 1.5 * SUMMARIZATION_MAX_LENGTH - text_separator_tokenization_length)\n",
        "text_summarization_max_length = int(text_summarization_safe_length * 0.9)\n",
        "text_summarization_min_length = int(text_summarization_safe_length * 0.75)"
      ]
    },
    {
      "cell_type": "code",
      "execution_count": 16,
      "metadata": {
        "id": "_UoRWhtvKtnu"
      },
      "outputs": [],
      "source": [
        "\"\"\" Creates summarized content from a title and text \"\"\"\n",
        "def get_summarized_text_samples (\n",
        "    summarization_tokenizer, \n",
        "    summarization_model, \n",
        "    text,\n",
        "    summarization_minimum_length = text_summarization_min_length,\n",
        "    summarization_maximum_length = text_summarization_max_length,\n",
        "    device = pt.device(\"cpu\"),\n",
        "    **kwargs\n",
        "  ) :\n",
        "\n",
        "  summary_tokens = summarization_tokenizer(text, return_tensors='pt', truncation=True, max_length = summarization_maximum_length).to(device)\n",
        "  \n",
        "  summarized_tokens = summarization_model.generate(\n",
        "      summary_tokens[\"input_ids\"].to(device),\n",
        "      min_length = summarization_minimum_length, \n",
        "      max_length = summarization_maximum_length,\n",
        "      **kwargs\n",
        "    )\n",
        "  \n",
        "  generated_samples = summarization_tokenizer.batch_decode(summarized_tokens, skip_special_tokens=True)\n",
        "\n",
        "  return np.unique(generated_samples)"
      ]
    },
    {
      "cell_type": "code",
      "execution_count": 17,
      "metadata": {
        "id": "rn-JcUS25wwL"
      },
      "outputs": [],
      "source": [
        "# create convenience summarization function\n",
        "get_standard_summarized_text_samples = lambda text : get_summarized_text_samples (\n",
        "    text_summarization_tokenizer,\n",
        "    text_summarization_model,\n",
        "    text,\n",
        "    num_return_sequences = MAXIMUM_SUMMARIZATION_SAMPLES_TO_GENERATE,   \n",
        "    device = device,\n",
        "    do_sample = True,\n",
        "    top_k= 100, #consider a medium variety of candidates\n",
        "    top_p = 0.95, #consider a high probability limit for selecting the next token\n",
        "    temperature = 0.95, #allow a higher degree of variety \n",
        "    repetition_penalty = 100000.0, #force diverse results\n",
        "    num_beams = 3, # use beam search to improve the computation times\n",
        "    early_stopping = True\n",
        ")"
      ]
    },
    {
      "cell_type": "code",
      "execution_count": 18,
      "metadata": {
        "colab": {
          "referenced_widgets": [
            "ded00c8123f7482db3bf29b5e9f7c85c",
            "d56b7c4b2ca44c4dab13f09d6c50e07e",
            "741b8d0a715342598b27c4d4d4b9f79d",
            "078c1282d5be46a2b0491561759bf3ac",
            "3301ee9bae53493fa83b5477a8a1fbfe",
            "839a3d387a164c3898bb2f50c22a9501",
            "ab50b52906bd410186d3f7c7ad09f96a",
            "8dd1a8c30534401f9828d669495e839d",
            "cc4e570626bb4879b2ce48defd0324b5",
            "59e9eeadeaa2489ca6321f86e64c4cf2",
            "c6551ed4d7cf40b39c68cb3da28736f9"
          ],
          "base_uri": "https://localhost:8080/",
          "height": 49
        },
        "id": "p-D9ZEIh5wwL",
        "outputId": "ef5b560b-4915-4f86-82ee-a635ce068961"
      },
      "outputs": [
        {
          "output_type": "display_data",
          "data": {
            "text/plain": [
              "  0%|          | 0/1056 [00:00<?, ?it/s]"
            ],
            "application/vnd.jupyter.widget-view+json": {
              "version_major": 2,
              "version_minor": 0,
              "model_id": "ded00c8123f7482db3bf29b5e9f7c85c"
            }
          },
          "metadata": {}
        }
      ],
      "source": [
        "\"\"\" Creates paraphrased titles from fake news dataframe\"\"\"\n",
        "def get_standard_summarized_text_samples_from_dataframe(item) :\n",
        "  summarized_content_data = get_standard_summarized_text_samples (\n",
        "      item[\"text\"]\n",
        "    )\n",
        "  \n",
        "  summarized_content_original_index = np.repeat(item[\"original_index\"], summarized_content_data.shape[0])\n",
        "\n",
        "  summarized_content_dataframe = pd.DataFrame({\n",
        "      \"original_index\": summarized_content_original_index,\n",
        "      \"summarized_text\": summarized_content_data\n",
        "  })\n",
        "\n",
        "  return summarized_content_dataframe\n",
        "\n",
        "# get paraphrased content from dataframe\n",
        "summarized_content = fake_news_data_frame.progress_apply(get_standard_summarized_text_samples_from_dataframe, axis = 1)\n",
        "summarized_samples_dataframe = pd.concat(summarized_content.values, ignore_index = True)"
      ]
    },
    {
      "cell_type": "code",
      "execution_count": 24,
      "metadata": {
        "id": "Dd2PGLj8KSzc"
      },
      "outputs": [],
      "source": [
        "# save the processed data\n",
        "summarized_samples_dataframe.to_csv(\n",
        "    \"./data/processed/summarized_texts.zip\",\n",
        "    compression = {\n",
        "        \"method\" : \"zip\", \n",
        "        \"archive_name\" : \"summarized_texts.csv\"\n",
        "    }\n",
        "  )"
      ]
    }
  ],
  "metadata": {
    "accelerator": "GPU",
    "colab": {
      "provenance": []
    },
    "gpuClass": "standard",
    "kernelspec": {
      "display_name": "Python 3",
      "name": "python3"
    },
    "language_info": {
      "codemirror_mode": {
        "name": "ipython",
        "version": 3
      },
      "file_extension": ".py",
      "mimetype": "text/x-python",
      "name": "python",
      "nbconvert_exporter": "python",
      "pygments_lexer": "ipython3",
      "version": "3.9.7"
    },
    "widgets": {
      "application/vnd.jupyter.widget-state+json": {
        "ded00c8123f7482db3bf29b5e9f7c85c": {
          "model_module": "@jupyter-widgets/controls",
          "model_name": "HBoxModel",
          "model_module_version": "1.5.0",
          "state": {
            "_dom_classes": [],
            "_model_module": "@jupyter-widgets/controls",
            "_model_module_version": "1.5.0",
            "_model_name": "HBoxModel",
            "_view_count": null,
            "_view_module": "@jupyter-widgets/controls",
            "_view_module_version": "1.5.0",
            "_view_name": "HBoxView",
            "box_style": "",
            "children": [
              "IPY_MODEL_d56b7c4b2ca44c4dab13f09d6c50e07e",
              "IPY_MODEL_741b8d0a715342598b27c4d4d4b9f79d",
              "IPY_MODEL_078c1282d5be46a2b0491561759bf3ac"
            ],
            "layout": "IPY_MODEL_3301ee9bae53493fa83b5477a8a1fbfe"
          }
        },
        "d56b7c4b2ca44c4dab13f09d6c50e07e": {
          "model_module": "@jupyter-widgets/controls",
          "model_name": "HTMLModel",
          "model_module_version": "1.5.0",
          "state": {
            "_dom_classes": [],
            "_model_module": "@jupyter-widgets/controls",
            "_model_module_version": "1.5.0",
            "_model_name": "HTMLModel",
            "_view_count": null,
            "_view_module": "@jupyter-widgets/controls",
            "_view_module_version": "1.5.0",
            "_view_name": "HTMLView",
            "description": "",
            "description_tooltip": null,
            "layout": "IPY_MODEL_839a3d387a164c3898bb2f50c22a9501",
            "placeholder": "​",
            "style": "IPY_MODEL_ab50b52906bd410186d3f7c7ad09f96a",
            "value": "100%"
          }
        },
        "741b8d0a715342598b27c4d4d4b9f79d": {
          "model_module": "@jupyter-widgets/controls",
          "model_name": "FloatProgressModel",
          "model_module_version": "1.5.0",
          "state": {
            "_dom_classes": [],
            "_model_module": "@jupyter-widgets/controls",
            "_model_module_version": "1.5.0",
            "_model_name": "FloatProgressModel",
            "_view_count": null,
            "_view_module": "@jupyter-widgets/controls",
            "_view_module_version": "1.5.0",
            "_view_name": "ProgressView",
            "bar_style": "success",
            "description": "",
            "description_tooltip": null,
            "layout": "IPY_MODEL_8dd1a8c30534401f9828d669495e839d",
            "max": 1056,
            "min": 0,
            "orientation": "horizontal",
            "style": "IPY_MODEL_cc4e570626bb4879b2ce48defd0324b5",
            "value": 1056
          }
        },
        "078c1282d5be46a2b0491561759bf3ac": {
          "model_module": "@jupyter-widgets/controls",
          "model_name": "HTMLModel",
          "model_module_version": "1.5.0",
          "state": {
            "_dom_classes": [],
            "_model_module": "@jupyter-widgets/controls",
            "_model_module_version": "1.5.0",
            "_model_name": "HTMLModel",
            "_view_count": null,
            "_view_module": "@jupyter-widgets/controls",
            "_view_module_version": "1.5.0",
            "_view_name": "HTMLView",
            "description": "",
            "description_tooltip": null,
            "layout": "IPY_MODEL_59e9eeadeaa2489ca6321f86e64c4cf2",
            "placeholder": "​",
            "style": "IPY_MODEL_c6551ed4d7cf40b39c68cb3da28736f9",
            "value": " 1056/1056 [1:41:46&lt;00:00,  6.51s/it]"
          }
        },
        "3301ee9bae53493fa83b5477a8a1fbfe": {
          "model_module": "@jupyter-widgets/base",
          "model_name": "LayoutModel",
          "model_module_version": "1.2.0",
          "state": {
            "_model_module": "@jupyter-widgets/base",
            "_model_module_version": "1.2.0",
            "_model_name": "LayoutModel",
            "_view_count": null,
            "_view_module": "@jupyter-widgets/base",
            "_view_module_version": "1.2.0",
            "_view_name": "LayoutView",
            "align_content": null,
            "align_items": null,
            "align_self": null,
            "border": null,
            "bottom": null,
            "display": null,
            "flex": null,
            "flex_flow": null,
            "grid_area": null,
            "grid_auto_columns": null,
            "grid_auto_flow": null,
            "grid_auto_rows": null,
            "grid_column": null,
            "grid_gap": null,
            "grid_row": null,
            "grid_template_areas": null,
            "grid_template_columns": null,
            "grid_template_rows": null,
            "height": null,
            "justify_content": null,
            "justify_items": null,
            "left": null,
            "margin": null,
            "max_height": null,
            "max_width": null,
            "min_height": null,
            "min_width": null,
            "object_fit": null,
            "object_position": null,
            "order": null,
            "overflow": null,
            "overflow_x": null,
            "overflow_y": null,
            "padding": null,
            "right": null,
            "top": null,
            "visibility": null,
            "width": null
          }
        },
        "839a3d387a164c3898bb2f50c22a9501": {
          "model_module": "@jupyter-widgets/base",
          "model_name": "LayoutModel",
          "model_module_version": "1.2.0",
          "state": {
            "_model_module": "@jupyter-widgets/base",
            "_model_module_version": "1.2.0",
            "_model_name": "LayoutModel",
            "_view_count": null,
            "_view_module": "@jupyter-widgets/base",
            "_view_module_version": "1.2.0",
            "_view_name": "LayoutView",
            "align_content": null,
            "align_items": null,
            "align_self": null,
            "border": null,
            "bottom": null,
            "display": null,
            "flex": null,
            "flex_flow": null,
            "grid_area": null,
            "grid_auto_columns": null,
            "grid_auto_flow": null,
            "grid_auto_rows": null,
            "grid_column": null,
            "grid_gap": null,
            "grid_row": null,
            "grid_template_areas": null,
            "grid_template_columns": null,
            "grid_template_rows": null,
            "height": null,
            "justify_content": null,
            "justify_items": null,
            "left": null,
            "margin": null,
            "max_height": null,
            "max_width": null,
            "min_height": null,
            "min_width": null,
            "object_fit": null,
            "object_position": null,
            "order": null,
            "overflow": null,
            "overflow_x": null,
            "overflow_y": null,
            "padding": null,
            "right": null,
            "top": null,
            "visibility": null,
            "width": null
          }
        },
        "ab50b52906bd410186d3f7c7ad09f96a": {
          "model_module": "@jupyter-widgets/controls",
          "model_name": "DescriptionStyleModel",
          "model_module_version": "1.5.0",
          "state": {
            "_model_module": "@jupyter-widgets/controls",
            "_model_module_version": "1.5.0",
            "_model_name": "DescriptionStyleModel",
            "_view_count": null,
            "_view_module": "@jupyter-widgets/base",
            "_view_module_version": "1.2.0",
            "_view_name": "StyleView",
            "description_width": ""
          }
        },
        "8dd1a8c30534401f9828d669495e839d": {
          "model_module": "@jupyter-widgets/base",
          "model_name": "LayoutModel",
          "model_module_version": "1.2.0",
          "state": {
            "_model_module": "@jupyter-widgets/base",
            "_model_module_version": "1.2.0",
            "_model_name": "LayoutModel",
            "_view_count": null,
            "_view_module": "@jupyter-widgets/base",
            "_view_module_version": "1.2.0",
            "_view_name": "LayoutView",
            "align_content": null,
            "align_items": null,
            "align_self": null,
            "border": null,
            "bottom": null,
            "display": null,
            "flex": null,
            "flex_flow": null,
            "grid_area": null,
            "grid_auto_columns": null,
            "grid_auto_flow": null,
            "grid_auto_rows": null,
            "grid_column": null,
            "grid_gap": null,
            "grid_row": null,
            "grid_template_areas": null,
            "grid_template_columns": null,
            "grid_template_rows": null,
            "height": null,
            "justify_content": null,
            "justify_items": null,
            "left": null,
            "margin": null,
            "max_height": null,
            "max_width": null,
            "min_height": null,
            "min_width": null,
            "object_fit": null,
            "object_position": null,
            "order": null,
            "overflow": null,
            "overflow_x": null,
            "overflow_y": null,
            "padding": null,
            "right": null,
            "top": null,
            "visibility": null,
            "width": null
          }
        },
        "cc4e570626bb4879b2ce48defd0324b5": {
          "model_module": "@jupyter-widgets/controls",
          "model_name": "ProgressStyleModel",
          "model_module_version": "1.5.0",
          "state": {
            "_model_module": "@jupyter-widgets/controls",
            "_model_module_version": "1.5.0",
            "_model_name": "ProgressStyleModel",
            "_view_count": null,
            "_view_module": "@jupyter-widgets/base",
            "_view_module_version": "1.2.0",
            "_view_name": "StyleView",
            "bar_color": null,
            "description_width": ""
          }
        },
        "59e9eeadeaa2489ca6321f86e64c4cf2": {
          "model_module": "@jupyter-widgets/base",
          "model_name": "LayoutModel",
          "model_module_version": "1.2.0",
          "state": {
            "_model_module": "@jupyter-widgets/base",
            "_model_module_version": "1.2.0",
            "_model_name": "LayoutModel",
            "_view_count": null,
            "_view_module": "@jupyter-widgets/base",
            "_view_module_version": "1.2.0",
            "_view_name": "LayoutView",
            "align_content": null,
            "align_items": null,
            "align_self": null,
            "border": null,
            "bottom": null,
            "display": null,
            "flex": null,
            "flex_flow": null,
            "grid_area": null,
            "grid_auto_columns": null,
            "grid_auto_flow": null,
            "grid_auto_rows": null,
            "grid_column": null,
            "grid_gap": null,
            "grid_row": null,
            "grid_template_areas": null,
            "grid_template_columns": null,
            "grid_template_rows": null,
            "height": null,
            "justify_content": null,
            "justify_items": null,
            "left": null,
            "margin": null,
            "max_height": null,
            "max_width": null,
            "min_height": null,
            "min_width": null,
            "object_fit": null,
            "object_position": null,
            "order": null,
            "overflow": null,
            "overflow_x": null,
            "overflow_y": null,
            "padding": null,
            "right": null,
            "top": null,
            "visibility": null,
            "width": null
          }
        },
        "c6551ed4d7cf40b39c68cb3da28736f9": {
          "model_module": "@jupyter-widgets/controls",
          "model_name": "DescriptionStyleModel",
          "model_module_version": "1.5.0",
          "state": {
            "_model_module": "@jupyter-widgets/controls",
            "_model_module_version": "1.5.0",
            "_model_name": "DescriptionStyleModel",
            "_view_count": null,
            "_view_module": "@jupyter-widgets/base",
            "_view_module_version": "1.2.0",
            "_view_name": "StyleView",
            "description_width": ""
          }
        }
      }
    }
  },
  "nbformat": 4,
  "nbformat_minor": 0
}