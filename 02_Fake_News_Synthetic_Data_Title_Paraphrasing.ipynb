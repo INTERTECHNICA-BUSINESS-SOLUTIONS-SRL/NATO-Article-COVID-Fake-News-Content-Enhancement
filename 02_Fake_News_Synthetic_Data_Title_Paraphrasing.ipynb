{
  "cells": [
    {
      "cell_type": "code",
      "execution_count": 1,
      "metadata": {
        "colab": {
          "base_uri": "https://localhost:8080/"
        },
        "id": "xipDY2_7MA1i",
        "outputId": "937c03de-b959-4a6d-9ccd-c149518617bf"
      },
      "outputs": [
        {
          "name": "stdout",
          "output_type": "stream",
          "text": [
            "Requirement already satisfied: requests_cache in d:\\anaconda3\\lib\\site-packages (1.0.1)\n",
            "Requirement already satisfied: url-normalize>=1.4 in d:\\anaconda3\\lib\\site-packages (from requests_cache) (1.4.3)\n",
            "Requirement already satisfied: cattrs>=22.2 in d:\\anaconda3\\lib\\site-packages (from requests_cache) (22.2.0)\n",
            "Requirement already satisfied: platformdirs>=2.5 in d:\\anaconda3\\lib\\site-packages (from requests_cache) (2.5.2)\n",
            "Requirement already satisfied: urllib3>=1.25.5 in d:\\anaconda3\\lib\\site-packages (from requests_cache) (1.26.15)\n",
            "Requirement already satisfied: attrs>=21.2 in d:\\anaconda3\\lib\\site-packages (from requests_cache) (22.1.0)\n",
            "Requirement already satisfied: requests>=2.22 in d:\\anaconda3\\lib\\site-packages (from requests_cache) (2.28.1)\n",
            "Requirement already satisfied: exceptiongroup in d:\\anaconda3\\lib\\site-packages (from cattrs>=22.2->requests_cache) (1.1.1)\n",
            "Requirement already satisfied: charset-normalizer<3,>=2 in d:\\anaconda3\\lib\\site-packages (from requests>=2.22->requests_cache) (2.0.4)\n",
            "Requirement already satisfied: idna<4,>=2.5 in d:\\anaconda3\\lib\\site-packages (from requests>=2.22->requests_cache) (3.4)\n",
            "Requirement already satisfied: certifi>=2017.4.17 in d:\\anaconda3\\lib\\site-packages (from requests>=2.22->requests_cache) (2022.12.7)\n",
            "Requirement already satisfied: six in d:\\anaconda3\\lib\\site-packages (from url-normalize>=1.4->requests_cache) (1.16.0)\n",
            "Requirement already satisfied: torch in d:\\anaconda3\\lib\\site-packages (1.12.1)\n",
            "Requirement already satisfied: typing_extensions in d:\\anaconda3\\lib\\site-packages (from torch) (4.5.0)\n",
            "Requirement already satisfied: transformers in d:\\anaconda3\\lib\\site-packages (4.24.0)\n",
            "Requirement already satisfied: tokenizers!=0.11.3,<0.14,>=0.11.1 in d:\\anaconda3\\lib\\site-packages (from transformers) (0.11.4)\n",
            "Requirement already satisfied: pyyaml>=5.1 in d:\\anaconda3\\lib\\site-packages (from transformers) (6.0)\n",
            "Requirement already satisfied: huggingface-hub<1.0,>=0.10.0 in d:\\anaconda3\\lib\\site-packages (from transformers) (0.10.1)\n",
            "Requirement already satisfied: filelock in d:\\anaconda3\\lib\\site-packages (from transformers) (3.9.0)\n",
            "Requirement already satisfied: tqdm>=4.27 in d:\\anaconda3\\lib\\site-packages (from transformers) (4.65.0)\n",
            "Requirement already satisfied: numpy>=1.17 in d:\\anaconda3\\lib\\site-packages (from transformers) (1.23.5)\n",
            "Requirement already satisfied: regex!=2019.12.17 in d:\\anaconda3\\lib\\site-packages (from transformers) (2022.7.9)\n",
            "Requirement already satisfied: requests in d:\\anaconda3\\lib\\site-packages (from transformers) (2.28.1)\n",
            "Requirement already satisfied: packaging>=20.0 in d:\\anaconda3\\lib\\site-packages (from transformers) (23.0)\n",
            "Requirement already satisfied: typing-extensions>=3.7.4.3 in d:\\anaconda3\\lib\\site-packages (from huggingface-hub<1.0,>=0.10.0->transformers) (4.5.0)\n",
            "Requirement already satisfied: colorama in d:\\anaconda3\\lib\\site-packages (from tqdm>=4.27->transformers) (0.4.6)\n",
            "Requirement already satisfied: certifi>=2017.4.17 in d:\\anaconda3\\lib\\site-packages (from requests->transformers) (2022.12.7)\n",
            "Requirement already satisfied: urllib3<1.27,>=1.21.1 in d:\\anaconda3\\lib\\site-packages (from requests->transformers) (1.26.15)\n",
            "Requirement already satisfied: charset-normalizer<3,>=2 in d:\\anaconda3\\lib\\site-packages (from requests->transformers) (2.0.4)\n",
            "Requirement already satisfied: idna<4,>=2.5 in d:\\anaconda3\\lib\\site-packages (from requests->transformers) (3.4)\n",
            "Requirement already satisfied: SentencePiece in d:\\anaconda3\\lib\\site-packages (0.1.98)\n"
          ]
        }
      ],
      "source": [
        "!pip3 install requests_cache\n",
        "!pip3 install torch\n",
        "!pip3 install transformers\n",
        "!pip3 install SentencePiece "
      ]
    },
    {
      "cell_type": "code",
      "execution_count": 2,
      "metadata": {
        "id": "SjGozYxJN4V0"
      },
      "outputs": [],
      "source": [
        "# import standard libraries\n",
        "import random\n",
        "import os\n",
        "import io\n",
        "import zipfile\n",
        "import requests as rq\n",
        "import requests_cache as rqc\n",
        "import numpy as np\n",
        "import pandas as pd\n",
        "import torch as pt\n",
        "import transformers as tsf\n",
        "import matplotlib.pyplot as plt\n",
        "import seaborn as sns\n",
        "from transformers import PegasusForConditionalGeneration, PegasusTokenizer\n",
        "from tqdm.notebook import tqdm"
      ]
    },
    {
      "cell_type": "code",
      "execution_count": 3,
      "metadata": {
        "colab": {
          "base_uri": "https://localhost:8080/"
        },
        "id": "iPaKVEo94jOu",
        "outputId": "fcd69f13-34f0-43de-e607-a29cad6200c5"
      },
      "outputs": [
        {
          "name": "stdout",
          "output_type": "stream",
          "text": [
            "ENVIRONMENT INFORMATION\n",
            "Using numpy version 1.23.5\n",
            "Using pandas version 1.5.3\n",
            "Using pytorch version 1.12.1\n",
            "Using transformers version 4.24.0\n"
          ]
        }
      ],
      "source": [
        "# print environment information\n",
        "print(\"ENVIRONMENT INFORMATION\")\n",
        "print(\"Using numpy version %s\" % np.__version__)\n",
        "print(\"Using pandas version %s\" % pd.__version__)\n",
        "print(\"Using pytorch version %s\" % pt.__version__)\n",
        "print(\"Using transformers version %s\" % tsf.__version__)"
      ]
    },
    {
      "cell_type": "code",
      "execution_count": 4,
      "metadata": {
        "colab": {
          "base_uri": "https://localhost:8080/"
        },
        "id": "rLFwKfxa4fUa",
        "outputId": "dc98f732-ddbd-4e13-fbd4-29679c9a2eb7"
      },
      "outputs": [
        {
          "name": "stdout",
          "output_type": "stream",
          "text": [
            "Using GPU acceleration\n",
            "Sat Apr 22 15:26:23 2023       \n",
            "+-----------------------------------------------------------------------------+\n",
            "| NVIDIA-SMI 516.94       Driver Version: 516.94       CUDA Version: 11.7     |\n",
            "|-------------------------------+----------------------+----------------------+\n",
            "| GPU  Name            TCC/WDDM | Bus-Id        Disp.A | Volatile Uncorr. ECC |\n",
            "| Fan  Temp  Perf  Pwr:Usage/Cap|         Memory-Usage | GPU-Util  Compute M. |\n",
            "|                               |                      |               MIG M. |\n",
            "|===============================+======================+======================|\n",
            "|   0  NVIDIA GeForce ... WDDM  | 00000000:01:00.0 Off |                  N/A |\n",
            "| N/A   41C    P8     5W /  N/A |      0MiB /  4096MiB |      0%      Default |\n",
            "|                               |                      |                  N/A |\n",
            "+-------------------------------+----------------------+----------------------+\n",
            "                                                                               \n",
            "+-----------------------------------------------------------------------------+\n",
            "| Processes:                                                                  |\n",
            "|  GPU   GI   CI        PID   Type   Process name                  GPU Memory |\n",
            "|        ID   ID                                                   Usage      |\n",
            "|=============================================================================|\n",
            "|  No running processes found                                                 |\n",
            "+-----------------------------------------------------------------------------+\n"
          ]
        }
      ],
      "source": [
        "# determine available device\n",
        "device = pt.device(\"cpu\")\n",
        "if pt.cuda.is_available() :\n",
        "  device = pt.device(\"cuda\")\n",
        "  print(\"Using GPU acceleration\")\n",
        "  ! nvidia-smi\n",
        "else:\n",
        "  print(\"NOT using GPU acceleration\")"
      ]
    },
    {
      "cell_type": "code",
      "execution_count": 5,
      "metadata": {
        "id": "xaxXJOH791VF"
      },
      "outputs": [],
      "source": [
        "# global configuration\n",
        "MAXIMUM_PARAPHRASED_SAMPLES_TO_RETURN = 3\n",
        "TOKENIZATION_MAX_LENGTH = 1024\n",
        "SUMMARIZATION_MAX_LENGTH = 32\n",
        "#LLM_MODEL_PARAPHRASER = \"eugenesiow/bart-paraphrase\"\n",
        "LLM_MODEL_PARAPHRASER = \"tuner007/pegasus_paraphrase\"\n",
        "LLM_MODEL_CORRECTOR = \"KES/T5-KES\""
      ]
    },
    {
      "cell_type": "code",
      "execution_count": 6,
      "metadata": {
        "id": "umhGlflH4Inv"
      },
      "outputs": [],
      "source": [
        "# global initialization - reproducibility\n",
        "random.seed(0)\n",
        "np.random.seed(0)\n",
        "pt.manual_seed(0)\n",
        "\n",
        "# initialize tqdm for pandas usage\n",
        "tqdm.pandas()\n",
        "\n",
        "# disable unimportant warnings\n",
        "os.environ[\"HF_HUB_DISABLE_SYMLINKS_WARNING\"] = \"1\""
      ]
    },
    {
      "cell_type": "code",
      "execution_count": 7,
      "metadata": {
        "id": "0Vu-JmNGDAwX"
      },
      "outputs": [],
      "source": [
        "\"\"\" Reads the data from a remote zip file \"\"\"\n",
        "def get_data_from_remote_zip_file(file_url, file_name):\n",
        "\n",
        "  response = rqc.CachedSession().get(file_url)\n",
        "  binary_data = io.BytesIO(response.content)\n",
        "\n",
        "  raw_data = None\n",
        "\n",
        "  with zipfile.ZipFile(binary_data) as z:\n",
        "    with z.open(file_name) as f:\n",
        "      raw_data = pd.read_csv(f)\n",
        "      \n",
        "  return raw_data"
      ]
    },
    {
      "cell_type": "code",
      "execution_count": 11,
      "metadata": {
        "id": "3hfzxLwREiZb"
      },
      "outputs": [],
      "source": [
        "# URL and FILE NAME for fake news data\n",
        "PROCESSED_FAKE_NEWS_URL = \"https://github.com/INTERTECHNICA-BUSINESS-SOLUTIONS-SRL/NATO-Article-COVID-Fake-News-Content-Enhancement/raw/main/data/processed/fake_news_data_preprocessed.zip\"\n",
        "PROCESSED_FAKE_NEWS_FILE_NAME = \"fake_news_data_preprocessed.csv\"\n",
        "\n",
        "# obtain the fake news dataframe\n",
        "fake_news_data_frame = get_data_from_remote_zip_file(PROCESSED_FAKE_NEWS_URL, PROCESSED_FAKE_NEWS_FILE_NAME)"
      ]
    },
    {
      "cell_type": "code",
      "execution_count": 12,
      "metadata": {
        "id": "PmGv6hzhZa1I"
      },
      "outputs": [],
      "source": [
        "# create the tokenizer and model used for paraphrasing\n",
        "paraphrasing_tokenizer = PegasusTokenizer.from_pretrained(LLM_MODEL_PARAPHRASER, use_fast = True)\n",
        "paraphrasing_model = PegasusForConditionalGeneration.from_pretrained(LLM_MODEL_PARAPHRASER).to(device)"
      ]
    },
    {
      "cell_type": "code",
      "execution_count": 13,
      "metadata": {
        "id": "BwIEpJtbPxZs"
      },
      "outputs": [],
      "source": [
        "\"\"\"Retrieve the length of a text tokenization sequence\"\"\"\n",
        "def get_tokenization_length(tokenizer, text) :\n",
        "  tokens = tokenizer(text, max_length = 1024, truncation = True)\n",
        "  \n",
        "  return len(tokens[\"input_ids\"])\n",
        "\n",
        "standard_tokenization_length = lambda text : get_tokenization_length(\n",
        "    paraphrasing_tokenizer,\n",
        "    text\n",
        ")"
      ]
    },
    {
      "cell_type": "code",
      "execution_count": 14,
      "metadata": {
        "id": "d1ix2flmS14E"
      },
      "outputs": [],
      "source": [
        "# get the distribution for the tokenization length \n",
        "tokenization_length_distribution = fake_news_data_frame[\"title\"].apply(standard_tokenization_length)"
      ]
    },
    {
      "cell_type": "code",
      "execution_count": 15,
      "metadata": {
        "colab": {
          "base_uri": "https://localhost:8080/"
        },
        "id": "-j_bWrI2S24b",
        "outputId": "d89fbe82-0a3a-407f-94d0-d9c3075764fe"
      },
      "outputs": [
        {
          "name": "stdout",
          "output_type": "stream",
          "text": [
            "Number of title tokens basic statistics: \n",
            "count    1056.000000\n",
            "mean       15.263258\n",
            "std         7.372346\n",
            "min         2.000000\n",
            "25%        10.000000\n",
            "50%        14.000000\n",
            "75%        19.000000\n",
            "max        61.000000\n",
            "Name: title, dtype: float64\n"
          ]
        }
      ],
      "source": [
        "print(\"Number of title tokens basic statistics: \")\n",
        "print(tokenization_length_distribution.describe())"
      ]
    },
    {
      "cell_type": "code",
      "execution_count": 16,
      "metadata": {
        "colab": {
          "base_uri": "https://localhost:8080/"
        },
        "id": "3HPk8flzTV9k",
        "outputId": "cd912dcb-33b8-418e-d6e5-c577003ae645"
      },
      "outputs": [
        {
          "name": "stdout",
          "output_type": "stream",
          "text": [
            "Number of title tokens series deciles: \n"
          ]
        },
        {
          "data": {
            "text/plain": [
              "0.0     2.0\n",
              "0.1     7.0\n",
              "0.2     9.0\n",
              "0.3    11.0\n",
              "0.4    13.0\n",
              "0.5    14.0\n",
              "0.6    16.0\n",
              "0.7    17.0\n",
              "0.8    21.0\n",
              "0.9    25.0\n",
              "Name: title, dtype: float64"
            ]
          },
          "execution_count": 16,
          "metadata": {},
          "output_type": "execute_result"
        }
      ],
      "source": [
        "print(\"Number of title tokens series deciles: \")\n",
        "tokenization_length_distribution.quantile(np.arange(0, 1, 0.1))"
      ]
    },
    {
      "cell_type": "code",
      "execution_count": 17,
      "metadata": {
        "colab": {
          "base_uri": "https://localhost:8080/",
          "height": 536
        },
        "id": "0hCk-ULMQ8KI",
        "outputId": "194b6f8f-d0b8-489b-c055-72149b27fd18"
      },
      "outputs": [
        {
          "data": {
            "image/png": "[encoded data removed]",
            "text/plain": [
              "<Figure size 640x480 with 1 Axes>"
            ]
          },
          "metadata": {},
          "output_type": "display_data"
        }
      ],
      "source": [
        "# plot the distribution length\n",
        "plt.rcParams[\"patch.force_edgecolor\"] = False\n",
        "\n",
        "plt.rcParams['patch.edgecolor'] = 'none'\n",
        "\n",
        "sns.histplot(\n",
        "    tokenization_length_distribution.values, \n",
        "    color = \"#D6000D\", \n",
        "    alpha = 0.15, \n",
        "    element = \"poly\", \n",
        "    bins = 10\n",
        "  )\n",
        "\n",
        "plt.legend(\n",
        "    [\"Number of tokens\"],\n",
        "    loc = 'lower left',\n",
        "    bbox_to_anchor = (0, -0.25),\n",
        "    ncol = 1,\n",
        "    framealpha = 0,\n",
        "    fontsize = 15\n",
        "  )\n",
        "\n",
        "plt.title(\"Distribution of title tokens length for fake news \\n\", fontsize = 15)\n",
        "\n",
        "plt.show()"
      ]
    },
    {
      "cell_type": "code",
      "execution_count": 18,
      "metadata": {
        "id": "_UoRWhtvKtnu"
      },
      "outputs": [],
      "source": [
        "\"\"\" Creates a paraphrased title \"\"\"\n",
        "def get_paraphrased_title_samples (\n",
        "    summarization_tokenizer,\n",
        "    summarization_model,\n",
        "    title,\n",
        "    samples_returned = MAXIMUM_PARAPHRASED_SAMPLES_TO_RETURN,\n",
        "    tokenization_maximum_length = SUMMARIZATION_MAX_LENGTH,\n",
        "    summarization_maximum_length = SUMMARIZATION_MAX_LENGTH,\n",
        "    device = pt.device(\"cpu\"),\n",
        "    include_original = True,\n",
        "    **kwargs\n",
        "  ) :\n",
        "\n",
        "  title_tokens = summarization_tokenizer(\n",
        "      title, \n",
        "      return_tensors ='pt',\n",
        "      truncation = True, \n",
        "      max_length = tokenization_maximum_length\n",
        "    )\n",
        "\n",
        "  # summarize at approximately the same length as initial content\n",
        "  summarization_length = min(int(len(title_tokens['input_ids'][0]) * 1.25), SUMMARIZATION_MAX_LENGTH)\n",
        "\n",
        "  generated_ids = summarization_model.generate(\n",
        "        title_tokens['input_ids'].to(device),\n",
        "        max_length = summarization_length,\n",
        "        do_sample = True,\n",
        "        num_return_sequences = samples_returned,\n",
        "        **kwargs    \n",
        "    )\n",
        "  \n",
        "  generated_samples = summarization_tokenizer.batch_decode(\n",
        "      generated_ids, \n",
        "      skip_special_tokens=True\n",
        "    )\n",
        "\n",
        "  if (include_original) :\n",
        "    generated_samples = np.concatenate(([title], generated_samples))\n",
        "\n",
        "  return np.unique(generated_samples)"
      ]
    },
    {
      "cell_type": "code",
      "execution_count": 19,
      "metadata": {
        "id": "ACwEH9WFSjDa"
      },
      "outputs": [],
      "source": [
        "# create convenience paraphrasing function\n",
        "get_standard_paraphrased_title_samples = lambda title : get_paraphrased_title_samples (\n",
        "    paraphrasing_tokenizer,\n",
        "    paraphrasing_model,\n",
        "    title,\n",
        "    device = device,\n",
        "    top_k= 1000, #consider a large variety of candidates\n",
        "    top_p = 0.95, #consider a high probability limit for selecting the next token\n",
        "    temperature = 1.15, #allow a higher degree of variety \n",
        "    repetition_penalty = 100000.0, #force diverse results\n",
        "    early_stopping = True\n",
        ")"
      ]
    },
    {
      "cell_type": "code",
      "execution_count": 20,
      "metadata": {
        "colab": {
          "base_uri": "https://localhost:8080/",
          "height": 49,
          "referenced_widgets": [
            "fd320ec42aea4e07b76a64feea1712d4",
            "f1090e819eaf4dacab11268409146137",
            "377421c934dd4c4caf54a2e784c3185b",
            "6bcf7648a6024f2c896eb9aab478f453",
            "1af5e360cfa64859b3c006bfc6f428c5",
            "912641dc84d34c699c65fd92db990652",
            "3e35a1a0206942a8ba28c4120192ae92",
            "1039c807650244c9b77acdca1508a504",
            "a2b6592b42d44d5f872e75746b46d48c",
            "b05e422faaf842ffb2ff709053404a73",
            "9b34d4417ef84e9b8e54245d239d4702"
          ]
        },
        "id": "aB6qz0e_ftw4",
        "outputId": "91a428de-d17a-434c-8c03-d34ec59fdc2f"
      },
      "outputs": [
        {
          "data": {
            "application/vnd.jupyter.widget-view+json": {
              "model_id": "e75f569558384c05ab97865b269500b5",
              "version_major": 2,
              "version_minor": 0
            },
            "text/plain": [
              "  0%|          | 0/1056 [00:00<?, ?it/s]"
            ]
          },
          "metadata": {},
          "output_type": "display_data"
        }
      ],
      "source": [
        "\"\"\" Creates paraphrased titles from fake news dataframe\"\"\"\n",
        "def get_standard_paraphrased_title_samples_from_dataframe(item) :\n",
        "  paraphrased_content_data = get_standard_paraphrased_title_samples (\n",
        "      item[\"title\"]\n",
        "    )\n",
        "  \n",
        "  paraphrased_content_original_index = np.repeat(item[\"original_index\"], paraphrased_content_data.shape[0])\n",
        "\n",
        "  paraphrased_content_dataframe = pd.DataFrame({\n",
        "      \"original_index\": paraphrased_content_original_index,\n",
        "      \"paraphprased_title\": paraphrased_content_data\n",
        "  })\n",
        "\n",
        "  return paraphrased_content_dataframe\n",
        "\n",
        "# get paraphrased content from dataframe\n",
        "paraphrased_content = fake_news_data_frame.progress_apply(get_standard_paraphrased_title_samples_from_dataframe, axis = 1)\n",
        "paraphrased_samples_dataframe = pd.concat(paraphrased_content.values, ignore_index = True)"
      ]
    },
    {
      "cell_type": "code",
      "execution_count": 21,
      "metadata": {
        "id": "62cWnsD3xbsk"
      },
      "outputs": [],
      "source": [
        "\"\"\" Creates a corrected version of the pharaphrased title \"\"\"\n",
        "def get_corrected_title_sample (\n",
        "    correction_tokenizer,\n",
        "    correction_model,\n",
        "    title,\n",
        "    tokenization_maximum_length = SUMMARIZATION_MAX_LENGTH,\n",
        "    summarization_maximum_length = 2 * SUMMARIZATION_MAX_LENGTH,\n",
        "    device = pt.device(\"cpu\"),\n",
        "    **kwargs\n",
        "  ) :\n",
        "\n",
        "  title_tokens = correction_tokenizer(\n",
        "      title, \n",
        "      return_tensors='pt',\n",
        "      truncation=True, \n",
        "      max_length = tokenization_maximum_length\n",
        "    )\n",
        "\n",
        "  generated_ids = correction_model.generate(\n",
        "        title_tokens['input_ids'].to(device),\n",
        "        max_length = summarization_maximum_length,\n",
        "        do_sample = True,\n",
        "        **kwargs    \n",
        "    )\n",
        "  \n",
        "  generated_samples = correction_tokenizer.batch_decode(\n",
        "      generated_ids, \n",
        "      skip_special_tokens=True\n",
        "    )\n",
        "\n",
        "  corrected_sentences = \"\".join(generated_samples)\n",
        "  return corrected_sentences"
      ]
    },
    {
      "cell_type": "code",
      "execution_count": 22,
      "metadata": {
        "id": "0Yuuc4hj3Wg1"
      },
      "outputs": [],
      "source": [
        "# create the tokenizer and model used for correction\n",
        "correction_tokenizer = tsf.AutoTokenizer.from_pretrained(LLM_MODEL_CORRECTOR, use_fast = True)\n",
        "correction_model = tsf.AutoModelForSeq2SeqLM.from_pretrained(LLM_MODEL_CORRECTOR).to(device)"
      ]
    },
    {
      "cell_type": "code",
      "execution_count": 23,
      "metadata": {
        "id": "5iOUvWYDsTjJ"
      },
      "outputs": [],
      "source": [
        "# create convenience correction function\n",
        "get_standard_corrected_title_sample = lambda title : get_corrected_title_sample (\n",
        "    correction_tokenizer,\n",
        "    correction_model,\n",
        "    title,\n",
        "    device = device,\n",
        "    top_k= 1000, #consider a large variety of candidates\n",
        "    top_p = 0.95, #consider a high probability limit for selecting the next token\n",
        "    temperature = 0.95, #allow a lower degree of variety \n",
        "    early_stopping = True\n",
        ")"
      ]
    },
    {
      "cell_type": "code",
      "execution_count": 24,
      "metadata": {
        "id": "y8BHJQ3rtEdd"
      },
      "outputs": [
        {
          "data": {
            "application/vnd.jupyter.widget-view+json": {
              "model_id": "9cd514e340e14d73a7c3bae4b0c1e3a7",
              "version_major": 2,
              "version_minor": 0
            },
            "text/plain": [
              "  0%|          | 0/3294 [00:00<?, ?it/s]"
            ]
          },
          "metadata": {},
          "output_type": "display_data"
        }
      ],
      "source": [
        "\"\"\" Creates corrected titles from paraphrased inputs\"\"\"\n",
        "def get_standard_corrected_title_samples_from_dataframe(item) :\n",
        "  corrected_content_data = get_standard_corrected_title_sample (\n",
        "      item[\"paraphprased_title\"]\n",
        "    )\n",
        "  \n",
        "  return corrected_content_data\n",
        "\n",
        "# get paraphrased content from dataframe\n",
        "corrected_content = paraphrased_samples_dataframe.progress_apply(get_standard_corrected_title_samples_from_dataframe, axis = 1)"
      ]
    },
    {
      "cell_type": "code",
      "execution_count": null,
      "metadata": {
        "id": "28Bxh7uDCe7q"
      },
      "outputs": [],
      "source": [
        "# create the dataframe for corrected content\n",
        "corrected_content_dataframe = pd.DataFrame({\n",
        "    \"original_index\": paraphrased_samples_dataframe[\"original_index\"].values,\n",
        "    \"title\": corrected_content\n",
        "})"
      ]
    },
    {
      "cell_type": "code",
      "execution_count": null,
      "metadata": {
        "id": "wXLHGVScVNEn"
      },
      "outputs": [],
      "source": [
        "# save the processed data\n",
        "corrected_content_dataframe.to_csv(\n",
        "    \"./data/processed/generated_titles.zip\",\n",
        "    compression = {\n",
        "        \"method\" : \"zip\", \n",
        "        \"archive_name\" : \"generated_titles.csv\"\n",
        "    }\n",
        "  )"
      ]
    }
  ],
  "metadata": {
    "accelerator": "GPU",
    "colab": {
      "provenance": []
    },
    "gpuClass": "standard",
    "kernelspec": {
      "display_name": "Python 3",
      "name": "python3"
    },
    "language_info": {
      "codemirror_mode": {
        "name": "ipython",
        "version": 3
      },
      "file_extension": ".py",
      "mimetype": "text/x-python",
      "name": "python",
      "nbconvert_exporter": "python",
      "pygments_lexer": "ipython3",
      "version": "3.9.7"
    },
    "widgets": {
      "application/vnd.jupyter.widget-state+json": {
        "1039c807650244c9b77acdca1508a504": {
          "model_module": "@jupyter-widgets/base",
          "model_module_version": "1.2.0",
          "model_name": "LayoutModel",
          "state": {
            "_model_module": "@jupyter-widgets/base",
            "_model_module_version": "1.2.0",
            "_model_name": "LayoutModel",
            "_view_count": null,
            "_view_module": "@jupyter-widgets/base",
            "_view_module_version": "1.2.0",
            "_view_name": "LayoutView",
            "align_content": null,
            "align_items": null,
            "align_self": null,
            "border": null,
            "bottom": null,
            "display": null,
            "flex": null,
            "flex_flow": null,
            "grid_area": null,
            "grid_auto_columns": null,
            "grid_auto_flow": null,
            "grid_auto_rows": null,
            "grid_column": null,
            "grid_gap": null,
            "grid_row": null,
            "grid_template_areas": null,
            "grid_template_columns": null,
            "grid_template_rows": null,
            "height": null,
            "justify_content": null,
            "justify_items": null,
            "left": null,
            "margin": null,
            "max_height": null,
            "max_width": null,
            "min_height": null,
            "min_width": null,
            "object_fit": null,
            "object_position": null,
            "order": null,
            "overflow": null,
            "overflow_x": null,
            "overflow_y": null,
            "padding": null,
            "right": null,
            "top": null,
            "visibility": null,
            "width": null
          }
        },
        "1af5e360cfa64859b3c006bfc6f428c5": {
          "model_module": "@jupyter-widgets/base",
          "model_module_version": "1.2.0",
          "model_name": "LayoutModel",
          "state": {
            "_model_module": "@jupyter-widgets/base",
            "_model_module_version": "1.2.0",
            "_model_name": "LayoutModel",
            "_view_count": null,
            "_view_module": "@jupyter-widgets/base",
            "_view_module_version": "1.2.0",
            "_view_name": "LayoutView",
            "align_content": null,
            "align_items": null,
            "align_self": null,
            "border": null,
            "bottom": null,
            "display": null,
            "flex": null,
            "flex_flow": null,
            "grid_area": null,
            "grid_auto_columns": null,
            "grid_auto_flow": null,
            "grid_auto_rows": null,
            "grid_column": null,
            "grid_gap": null,
            "grid_row": null,
            "grid_template_areas": null,
            "grid_template_columns": null,
            "grid_template_rows": null,
            "height": null,
            "justify_content": null,
            "justify_items": null,
            "left": null,
            "margin": null,
            "max_height": null,
            "max_width": null,
            "min_height": null,
            "min_width": null,
            "object_fit": null,
            "object_position": null,
            "order": null,
            "overflow": null,
            "overflow_x": null,
            "overflow_y": null,
            "padding": null,
            "right": null,
            "top": null,
            "visibility": null,
            "width": null
          }
        },
        "377421c934dd4c4caf54a2e784c3185b": {
          "model_module": "@jupyter-widgets/controls",
          "model_module_version": "1.5.0",
          "model_name": "FloatProgressModel",
          "state": {
            "_dom_classes": [],
            "_model_module": "@jupyter-widgets/controls",
            "_model_module_version": "1.5.0",
            "_model_name": "FloatProgressModel",
            "_view_count": null,
            "_view_module": "@jupyter-widgets/controls",
            "_view_module_version": "1.5.0",
            "_view_name": "ProgressView",
            "bar_style": "",
            "description": "",
            "description_tooltip": null,
            "layout": "IPY_MODEL_1039c807650244c9b77acdca1508a504",
            "max": 1056,
            "min": 0,
            "orientation": "horizontal",
            "style": "IPY_MODEL_a2b6592b42d44d5f872e75746b46d48c",
            "value": 0
          }
        },
        "3e35a1a0206942a8ba28c4120192ae92": {
          "model_module": "@jupyter-widgets/controls",
          "model_module_version": "1.5.0",
          "model_name": "DescriptionStyleModel",
          "state": {
            "_model_module": "@jupyter-widgets/controls",
            "_model_module_version": "1.5.0",
            "_model_name": "DescriptionStyleModel",
            "_view_count": null,
            "_view_module": "@jupyter-widgets/base",
            "_view_module_version": "1.2.0",
            "_view_name": "StyleView",
            "description_width": ""
          }
        },
        "6bcf7648a6024f2c896eb9aab478f453": {
          "model_module": "@jupyter-widgets/controls",
          "model_module_version": "1.5.0",
          "model_name": "HTMLModel",
          "state": {
            "_dom_classes": [],
            "_model_module": "@jupyter-widgets/controls",
            "_model_module_version": "1.5.0",
            "_model_name": "HTMLModel",
            "_view_count": null,
            "_view_module": "@jupyter-widgets/controls",
            "_view_module_version": "1.5.0",
            "_view_name": "HTMLView",
            "description": "",
            "description_tooltip": null,
            "layout": "IPY_MODEL_b05e422faaf842ffb2ff709053404a73",
            "placeholder": "​",
            "style": "IPY_MODEL_9b34d4417ef84e9b8e54245d239d4702",
            "value": " 0/1056 [00:00&lt;?, ?it/s]"
          }
        },
        "912641dc84d34c699c65fd92db990652": {
          "model_module": "@jupyter-widgets/base",
          "model_module_version": "1.2.0",
          "model_name": "LayoutModel",
          "state": {
            "_model_module": "@jupyter-widgets/base",
            "_model_module_version": "1.2.0",
            "_model_name": "LayoutModel",
            "_view_count": null,
            "_view_module": "@jupyter-widgets/base",
            "_view_module_version": "1.2.0",
            "_view_name": "LayoutView",
            "align_content": null,
            "align_items": null,
            "align_self": null,
            "border": null,
            "bottom": null,
            "display": null,
            "flex": null,
            "flex_flow": null,
            "grid_area": null,
            "grid_auto_columns": null,
            "grid_auto_flow": null,
            "grid_auto_rows": null,
            "grid_column": null,
            "grid_gap": null,
            "grid_row": null,
            "grid_template_areas": null,
            "grid_template_columns": null,
            "grid_template_rows": null,
            "height": null,
            "justify_content": null,
            "justify_items": null,
            "left": null,
            "margin": null,
            "max_height": null,
            "max_width": null,
            "min_height": null,
            "min_width": null,
            "object_fit": null,
            "object_position": null,
            "order": null,
            "overflow": null,
            "overflow_x": null,
            "overflow_y": null,
            "padding": null,
            "right": null,
            "top": null,
            "visibility": null,
            "width": null
          }
        },
        "9b34d4417ef84e9b8e54245d239d4702": {
          "model_module": "@jupyter-widgets/controls",
          "model_module_version": "1.5.0",
          "model_name": "DescriptionStyleModel",
          "state": {
            "_model_module": "@jupyter-widgets/controls",
            "_model_module_version": "1.5.0",
            "_model_name": "DescriptionStyleModel",
            "_view_count": null,
            "_view_module": "@jupyter-widgets/base",
            "_view_module_version": "1.2.0",
            "_view_name": "StyleView",
            "description_width": ""
          }
        },
        "a2b6592b42d44d5f872e75746b46d48c": {
          "model_module": "@jupyter-widgets/controls",
          "model_module_version": "1.5.0",
          "model_name": "ProgressStyleModel",
          "state": {
            "_model_module": "@jupyter-widgets/controls",
            "_model_module_version": "1.5.0",
            "_model_name": "ProgressStyleModel",
            "_view_count": null,
            "_view_module": "@jupyter-widgets/base",
            "_view_module_version": "1.2.0",
            "_view_name": "StyleView",
            "bar_color": null,
            "description_width": ""
          }
        },
        "b05e422faaf842ffb2ff709053404a73": {
          "model_module": "@jupyter-widgets/base",
          "model_module_version": "1.2.0",
          "model_name": "LayoutModel",
          "state": {
            "_model_module": "@jupyter-widgets/base",
            "_model_module_version": "1.2.0",
            "_model_name": "LayoutModel",
            "_view_count": null,
            "_view_module": "@jupyter-widgets/base",
            "_view_module_version": "1.2.0",
            "_view_name": "LayoutView",
            "align_content": null,
            "align_items": null,
            "align_self": null,
            "border": null,
            "bottom": null,
            "display": null,
            "flex": null,
            "flex_flow": null,
            "grid_area": null,
            "grid_auto_columns": null,
            "grid_auto_flow": null,
            "grid_auto_rows": null,
            "grid_column": null,
            "grid_gap": null,
            "grid_row": null,
            "grid_template_areas": null,
            "grid_template_columns": null,
            "grid_template_rows": null,
            "height": null,
            "justify_content": null,
            "justify_items": null,
            "left": null,
            "margin": null,
            "max_height": null,
            "max_width": null,
            "min_height": null,
            "min_width": null,
            "object_fit": null,
            "object_position": null,
            "order": null,
            "overflow": null,
            "overflow_x": null,
            "overflow_y": null,
            "padding": null,
            "right": null,
            "top": null,
            "visibility": null,
            "width": null
          }
        },
        "f1090e819eaf4dacab11268409146137": {
          "model_module": "@jupyter-widgets/controls",
          "model_module_version": "1.5.0",
          "model_name": "HTMLModel",
          "state": {
            "_dom_classes": [],
            "_model_module": "@jupyter-widgets/controls",
            "_model_module_version": "1.5.0",
            "_model_name": "HTMLModel",
            "_view_count": null,
            "_view_module": "@jupyter-widgets/controls",
            "_view_module_version": "1.5.0",
            "_view_name": "HTMLView",
            "description": "",
            "description_tooltip": null,
            "layout": "IPY_MODEL_912641dc84d34c699c65fd92db990652",
            "placeholder": "​",
            "style": "IPY_MODEL_3e35a1a0206942a8ba28c4120192ae92",
            "value": "  0%"
          }
        },
        "fd320ec42aea4e07b76a64feea1712d4": {
          "model_module": "@jupyter-widgets/controls",
          "model_module_version": "1.5.0",
          "model_name": "HBoxModel",
          "state": {
            "_dom_classes": [],
            "_model_module": "@jupyter-widgets/controls",
            "_model_module_version": "1.5.0",
            "_model_name": "HBoxModel",
            "_view_count": null,
            "_view_module": "@jupyter-widgets/controls",
            "_view_module_version": "1.5.0",
            "_view_name": "HBoxView",
            "box_style": "",
            "children": [
              "IPY_MODEL_f1090e819eaf4dacab11268409146137",
              "IPY_MODEL_377421c934dd4c4caf54a2e784c3185b",
              "IPY_MODEL_6bcf7648a6024f2c896eb9aab478f453"
            ],
            "layout": "IPY_MODEL_1af5e360cfa64859b3c006bfc6f428c5"
          }
        }
      }
    }
  },
  "nbformat": 4,
  "nbformat_minor": 0
}
