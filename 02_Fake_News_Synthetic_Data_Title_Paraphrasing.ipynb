{
  "cells": [
    {
      "cell_type": "code",
      "execution_count": 1,
      "metadata": {
        "colab": {
          "base_uri": "https://localhost:8080/"
        },
        "id": "xipDY2_7MA1i",
        "outputId": "72ba8d60-2e1e-49ee-ed05-6238760c6aeb"
      },
      "outputs": [
        {
          "output_type": "stream",
          "name": "stdout",
          "text": [
            "Looking in indexes: https://pypi.org/simple, https://us-python.pkg.dev/colab-wheels/public/simple/\n",
            "Requirement already satisfied: requests_cache in /usr/local/lib/python3.10/dist-packages (1.0.1)\n",
            "Requirement already satisfied: platformdirs>=2.5 in /usr/local/lib/python3.10/dist-packages (from requests_cache) (3.3.0)\n",
            "Requirement already satisfied: urllib3>=1.25.5 in /usr/local/lib/python3.10/dist-packages (from requests_cache) (1.26.15)\n",
            "Requirement already satisfied: url-normalize>=1.4 in /usr/local/lib/python3.10/dist-packages (from requests_cache) (1.4.3)\n",
            "Requirement already satisfied: requests>=2.22 in /usr/local/lib/python3.10/dist-packages (from requests_cache) (2.27.1)\n",
            "Requirement already satisfied: attrs>=21.2 in /usr/local/lib/python3.10/dist-packages (from requests_cache) (23.1.0)\n",
            "Requirement already satisfied: cattrs>=22.2 in /usr/local/lib/python3.10/dist-packages (from requests_cache) (22.2.0)\n",
            "Requirement already satisfied: exceptiongroup in /usr/local/lib/python3.10/dist-packages (from cattrs>=22.2->requests_cache) (1.1.1)\n",
            "Requirement already satisfied: idna<4,>=2.5 in /usr/local/lib/python3.10/dist-packages (from requests>=2.22->requests_cache) (3.4)\n",
            "Requirement already satisfied: charset-normalizer~=2.0.0 in /usr/local/lib/python3.10/dist-packages (from requests>=2.22->requests_cache) (2.0.12)\n",
            "Requirement already satisfied: certifi>=2017.4.17 in /usr/local/lib/python3.10/dist-packages (from requests>=2.22->requests_cache) (2022.12.7)\n",
            "Requirement already satisfied: six in /usr/local/lib/python3.10/dist-packages (from url-normalize>=1.4->requests_cache) (1.16.0)\n",
            "Looking in indexes: https://pypi.org/simple, https://us-python.pkg.dev/colab-wheels/public/simple/\n",
            "Requirement already satisfied: torch in /usr/local/lib/python3.10/dist-packages (2.0.0+cu118)\n",
            "Requirement already satisfied: filelock in /usr/local/lib/python3.10/dist-packages (from torch) (3.12.0)\n",
            "Requirement already satisfied: typing-extensions in /usr/local/lib/python3.10/dist-packages (from torch) (4.5.0)\n",
            "Requirement already satisfied: sympy in /usr/local/lib/python3.10/dist-packages (from torch) (1.11.1)\n",
            "Requirement already satisfied: jinja2 in /usr/local/lib/python3.10/dist-packages (from torch) (3.1.2)\n",
            "Requirement already satisfied: triton==2.0.0 in /usr/local/lib/python3.10/dist-packages (from torch) (2.0.0)\n",
            "Requirement already satisfied: networkx in /usr/local/lib/python3.10/dist-packages (from torch) (3.1)\n",
            "Requirement already satisfied: lit in /usr/local/lib/python3.10/dist-packages (from triton==2.0.0->torch) (16.0.2)\n",
            "Requirement already satisfied: cmake in /usr/local/lib/python3.10/dist-packages (from triton==2.0.0->torch) (3.25.2)\n",
            "Requirement already satisfied: MarkupSafe>=2.0 in /usr/local/lib/python3.10/dist-packages (from jinja2->torch) (2.1.2)\n",
            "Requirement already satisfied: mpmath>=0.19 in /usr/local/lib/python3.10/dist-packages (from sympy->torch) (1.3.0)\n",
            "Looking in indexes: https://pypi.org/simple, https://us-python.pkg.dev/colab-wheels/public/simple/\n",
            "Requirement already satisfied: transformers in /usr/local/lib/python3.10/dist-packages (4.28.1)\n",
            "Requirement already satisfied: numpy>=1.17 in /usr/local/lib/python3.10/dist-packages (from transformers) (1.22.4)\n",
            "Requirement already satisfied: tokenizers!=0.11.3,<0.14,>=0.11.1 in /usr/local/lib/python3.10/dist-packages (from transformers) (0.13.3)\n",
            "Requirement already satisfied: huggingface-hub<1.0,>=0.11.0 in /usr/local/lib/python3.10/dist-packages (from transformers) (0.14.1)\n",
            "Requirement already satisfied: packaging>=20.0 in /usr/local/lib/python3.10/dist-packages (from transformers) (23.1)\n",
            "Requirement already satisfied: filelock in /usr/local/lib/python3.10/dist-packages (from transformers) (3.12.0)\n",
            "Requirement already satisfied: pyyaml>=5.1 in /usr/local/lib/python3.10/dist-packages (from transformers) (6.0)\n",
            "Requirement already satisfied: regex!=2019.12.17 in /usr/local/lib/python3.10/dist-packages (from transformers) (2022.10.31)\n",
            "Requirement already satisfied: tqdm>=4.27 in /usr/local/lib/python3.10/dist-packages (from transformers) (4.65.0)\n",
            "Requirement already satisfied: requests in /usr/local/lib/python3.10/dist-packages (from transformers) (2.27.1)\n",
            "Requirement already satisfied: typing-extensions>=3.7.4.3 in /usr/local/lib/python3.10/dist-packages (from huggingface-hub<1.0,>=0.11.0->transformers) (4.5.0)\n",
            "Requirement already satisfied: fsspec in /usr/local/lib/python3.10/dist-packages (from huggingface-hub<1.0,>=0.11.0->transformers) (2023.4.0)\n",
            "Requirement already satisfied: charset-normalizer~=2.0.0 in /usr/local/lib/python3.10/dist-packages (from requests->transformers) (2.0.12)\n",
            "Requirement already satisfied: idna<4,>=2.5 in /usr/local/lib/python3.10/dist-packages (from requests->transformers) (3.4)\n",
            "Requirement already satisfied: urllib3<1.27,>=1.21.1 in /usr/local/lib/python3.10/dist-packages (from requests->transformers) (1.26.15)\n",
            "Requirement already satisfied: certifi>=2017.4.17 in /usr/local/lib/python3.10/dist-packages (from requests->transformers) (2022.12.7)\n",
            "Looking in indexes: https://pypi.org/simple, https://us-python.pkg.dev/colab-wheels/public/simple/\n",
            "Requirement already satisfied: SentencePiece in /usr/local/lib/python3.10/dist-packages (0.1.99)\n"
          ]
        }
      ],
      "source": [
        "!pip3 install requests_cache\n",
        "!pip3 install torch\n",
        "!pip3 install transformers\n",
        "!pip3 install SentencePiece "
      ]
    },
    {
      "cell_type": "code",
      "execution_count": 2,
      "metadata": {
        "id": "SjGozYxJN4V0"
      },
      "outputs": [],
      "source": [
        "# import standard libraries\n",
        "import random\n",
        "import os\n",
        "import io\n",
        "import zipfile\n",
        "import requests as rq\n",
        "import requests_cache as rqc\n",
        "import numpy as np\n",
        "import pandas as pd\n",
        "import torch as pt\n",
        "import transformers as tsf\n",
        "import matplotlib.pyplot as plt\n",
        "import seaborn as sns\n",
        "from transformers import PegasusForConditionalGeneration, PegasusTokenizer\n",
        "from tqdm.notebook import tqdm"
      ]
    },
    {
      "cell_type": "code",
      "execution_count": 3,
      "metadata": {
        "colab": {
          "base_uri": "https://localhost:8080/"
        },
        "id": "iPaKVEo94jOu",
        "outputId": "10487e3f-3fcd-4bed-ed21-64dc8e7feda1"
      },
      "outputs": [
        {
          "output_type": "stream",
          "name": "stdout",
          "text": [
            "ENVIRONMENT INFORMATION\n",
            "Using numpy version 1.22.4\n",
            "Using pandas version 1.5.3\n",
            "Using pytorch version 2.0.0+cu118\n",
            "Using transformers version 4.28.1\n"
          ]
        }
      ],
      "source": [
        "# print environment information\n",
        "print(\"ENVIRONMENT INFORMATION\")\n",
        "print(\"Using numpy version %s\" % np.__version__)\n",
        "print(\"Using pandas version %s\" % pd.__version__)\n",
        "print(\"Using pytorch version %s\" % pt.__version__)\n",
        "print(\"Using transformers version %s\" % tsf.__version__)"
      ]
    },
    {
      "cell_type": "code",
      "execution_count": 4,
      "metadata": {
        "colab": {
          "base_uri": "https://localhost:8080/"
        },
        "id": "rLFwKfxa4fUa",
        "outputId": "f6e7512e-5afe-42ab-ca65-d6953e701b1b"
      },
      "outputs": [
        {
          "output_type": "stream",
          "name": "stdout",
          "text": [
            "Using GPU acceleration\n",
            "Thu May  4 20:26:10 2023       \n",
            "+-----------------------------------------------------------------------------+\n",
            "| NVIDIA-SMI 525.85.12    Driver Version: 525.85.12    CUDA Version: 12.0     |\n",
            "|-------------------------------+----------------------+----------------------+\n",
            "| GPU  Name        Persistence-M| Bus-Id        Disp.A | Volatile Uncorr. ECC |\n",
            "| Fan  Temp  Perf  Pwr:Usage/Cap|         Memory-Usage | GPU-Util  Compute M. |\n",
            "|                               |                      |               MIG M. |\n",
            "|===============================+======================+======================|\n",
            "|   0  Tesla T4            Off  | 00000000:00:04.0 Off |                    0 |\n",
            "| N/A   70C    P8    11W /  70W |      3MiB / 15360MiB |      0%      Default |\n",
            "|                               |                      |                  N/A |\n",
            "+-------------------------------+----------------------+----------------------+\n",
            "                                                                               \n",
            "+-----------------------------------------------------------------------------+\n",
            "| Processes:                                                                  |\n",
            "|  GPU   GI   CI        PID   Type   Process name                  GPU Memory |\n",
            "|        ID   ID                                                   Usage      |\n",
            "|=============================================================================|\n",
            "|  No running processes found                                                 |\n",
            "+-----------------------------------------------------------------------------+\n"
          ]
        }
      ],
      "source": [
        "# determine available device\n",
        "device = pt.device(\"cpu\")\n",
        "if pt.cuda.is_available() :\n",
        "  device = pt.device(\"cuda\")\n",
        "  print(\"Using GPU acceleration\")\n",
        "  ! nvidia-smi\n",
        "else:\n",
        "  print(\"NOT using GPU acceleration\")"
      ]
    },
    {
      "cell_type": "code",
      "execution_count": 5,
      "metadata": {
        "id": "xaxXJOH791VF"
      },
      "outputs": [],
      "source": [
        "# global configuration\n",
        "MAXIMUM_PARAPHRASED_SAMPLES_TO_RETURN = 3\n",
        "TOKENIZATION_MAX_LENGTH = 1024\n",
        "SUMMARIZATION_MAX_LENGTH = 32\n",
        "#LLM_MODEL_PARAPHRASER = \"eugenesiow/bart-paraphrase\"\n",
        "LLM_MODEL_PARAPHRASER = \"tuner007/pegasus_paraphrase\"\n",
        "LLM_MODEL_CORRECTOR = \"KES/T5-KES\""
      ]
    },
    {
      "cell_type": "code",
      "execution_count": 6,
      "metadata": {
        "id": "umhGlflH4Inv"
      },
      "outputs": [],
      "source": [
        "# global initialization - reproducibility\n",
        "random.seed(0)\n",
        "np.random.seed(0)\n",
        "pt.manual_seed(0)\n",
        "\n",
        "# initialize tqdm for pandas usage\n",
        "tqdm.pandas()\n",
        "\n",
        "# disable unimportant warnings\n",
        "os.environ[\"HF_HUB_DISABLE_SYMLINKS_WARNING\"] = \"1\""
      ]
    },
    {
      "cell_type": "code",
      "execution_count": 7,
      "metadata": {
        "id": "0Vu-JmNGDAwX"
      },
      "outputs": [],
      "source": [
        "\"\"\" Reads the data from a remote zip file \"\"\"\n",
        "def get_data_from_remote_zip_file(file_url, file_name):\n",
        "\n",
        "  response = rqc.CachedSession().get(file_url)\n",
        "  binary_data = io.BytesIO(response.content)\n",
        "\n",
        "  raw_data = None\n",
        "\n",
        "  with zipfile.ZipFile(binary_data) as z:\n",
        "    with z.open(file_name) as f:\n",
        "      raw_data = pd.read_csv(f)\n",
        "      \n",
        "  return raw_data"
      ]
    },
    {
      "cell_type": "code",
      "execution_count": 8,
      "metadata": {
        "id": "3hfzxLwREiZb"
      },
      "outputs": [],
      "source": [
        "# URL and FILE NAME for fake news data\n",
        "PROCESSED_FAKE_NEWS_URL = \"https://github.com/INTERTECHNICA-BUSINESS-SOLUTIONS-SRL/NATO-Article-COVID-Fake-News-Content-Enhancement/raw/main/data/processed/fake_news_data_preprocessed.zip\"\n",
        "PROCESSED_FAKE_NEWS_FILE_NAME = \"fake_news_data_preprocessed.csv\"\n",
        "\n",
        "# obtain the fake news dataframe\n",
        "fake_news_data_frame = get_data_from_remote_zip_file(PROCESSED_FAKE_NEWS_URL, PROCESSED_FAKE_NEWS_FILE_NAME)"
      ]
    },
    {
      "cell_type": "code",
      "execution_count": 9,
      "metadata": {
        "id": "PmGv6hzhZa1I"
      },
      "outputs": [],
      "source": [
        "# create the tokenizer and model used for paraphrasing\n",
        "paraphrasing_tokenizer = PegasusTokenizer.from_pretrained(LLM_MODEL_PARAPHRASER, use_fast = True)\n",
        "paraphrasing_model = PegasusForConditionalGeneration.from_pretrained(LLM_MODEL_PARAPHRASER).to(device)"
      ]
    },
    {
      "cell_type": "code",
      "execution_count": 10,
      "metadata": {
        "id": "BwIEpJtbPxZs"
      },
      "outputs": [],
      "source": [
        "\"\"\"Retrieve the length of a text tokenization sequence\"\"\"\n",
        "def get_tokenization_length(tokenizer, text) :\n",
        "  tokens = tokenizer(text, max_length = 1024, truncation = True)\n",
        "  \n",
        "  return len(tokens[\"input_ids\"])\n",
        "\n",
        "standard_tokenization_length = lambda text : get_tokenization_length(\n",
        "    paraphrasing_tokenizer,\n",
        "    text\n",
        ")"
      ]
    },
    {
      "cell_type": "code",
      "execution_count": 11,
      "metadata": {
        "id": "d1ix2flmS14E"
      },
      "outputs": [],
      "source": [
        "# get the distribution for the tokenization length \n",
        "tokenization_length_distribution = fake_news_data_frame[\"title\"].apply(standard_tokenization_length)"
      ]
    },
    {
      "cell_type": "code",
      "execution_count": 12,
      "metadata": {
        "colab": {
          "base_uri": "https://localhost:8080/"
        },
        "id": "-j_bWrI2S24b",
        "outputId": "62c7e717-e25e-4056-85a2-4d810c7bcf9c"
      },
      "outputs": [
        {
          "output_type": "stream",
          "name": "stdout",
          "text": [
            "Number of title tokens basic statistics: \n",
            "count    1056.000000\n",
            "mean       15.263258\n",
            "std         7.372346\n",
            "min         2.000000\n",
            "25%        10.000000\n",
            "50%        14.000000\n",
            "75%        19.000000\n",
            "max        61.000000\n",
            "Name: title, dtype: float64\n"
          ]
        }
      ],
      "source": [
        "print(\"Number of title tokens basic statistics: \")\n",
        "print(tokenization_length_distribution.describe())"
      ]
    },
    {
      "cell_type": "code",
      "execution_count": 13,
      "metadata": {
        "colab": {
          "base_uri": "https://localhost:8080/"
        },
        "id": "3HPk8flzTV9k",
        "outputId": "b4708b67-bd05-4bb6-dddb-8da85bf71373"
      },
      "outputs": [
        {
          "output_type": "stream",
          "name": "stdout",
          "text": [
            "Number of title tokens series deciles: \n"
          ]
        },
        {
          "output_type": "execute_result",
          "data": {
            "text/plain": [
              "0.0     2.0\n",
              "0.1     7.0\n",
              "0.2     9.0\n",
              "0.3    11.0\n",
              "0.4    13.0\n",
              "0.5    14.0\n",
              "0.6    16.0\n",
              "0.7    17.0\n",
              "0.8    21.0\n",
              "0.9    25.0\n",
              "Name: title, dtype: float64"
            ]
          },
          "metadata": {},
          "execution_count": 13
        }
      ],
      "source": [
        "print(\"Number of title tokens series deciles: \")\n",
        "tokenization_length_distribution.quantile(np.arange(0, 1, 0.1))"
      ]
    },
    {
      "cell_type": "code",
      "execution_count": 14,
      "metadata": {
        "colab": {
          "base_uri": "https://localhost:8080/",
          "height": 536
        },
        "id": "0hCk-ULMQ8KI",
        "outputId": "a5fe5156-8a3a-4c02-9f3e-badce4fdcb7c"
      },
      "outputs": [
        {
          "output_type": "display_data",
          "data": {
            "text/plain": [
              "<Figure size 640x480 with 1 Axes>"
            ],
            "image/png": "[encoded data removed]"
          },
          "metadata": {}
        }
      ],
      "source": [
        "# plot the distribution length\n",
        "plt.rcParams[\"patch.force_edgecolor\"] = False\n",
        "\n",
        "plt.rcParams['patch.edgecolor'] = 'none'\n",
        "\n",
        "sns.histplot(\n",
        "    tokenization_length_distribution.values, \n",
        "    color = \"#D6000D\", \n",
        "    alpha = 0.15, \n",
        "    element = \"poly\", \n",
        "    bins = 10\n",
        "  )\n",
        "\n",
        "plt.legend(\n",
        "    [\"Number of tokens\"],\n",
        "    loc = 'lower left',\n",
        "    bbox_to_anchor = (0, -0.25),\n",
        "    ncol = 1,\n",
        "    framealpha = 0,\n",
        "    fontsize = 15\n",
        "  )\n",
        "\n",
        "plt.title(\"Distribution of title tokens length for fake news \\n\", fontsize = 15)\n",
        "\n",
        "plt.show()"
      ]
    },
    {
      "cell_type": "code",
      "execution_count": 15,
      "metadata": {
        "id": "_UoRWhtvKtnu"
      },
      "outputs": [],
      "source": [
        "\"\"\" Creates a paraphrased title \"\"\"\n",
        "def get_paraphrased_title_samples (\n",
        "    summarization_tokenizer,\n",
        "    summarization_model,\n",
        "    title,\n",
        "    samples_returned = MAXIMUM_PARAPHRASED_SAMPLES_TO_RETURN,\n",
        "    tokenization_maximum_length = SUMMARIZATION_MAX_LENGTH,\n",
        "    summarization_maximum_length = SUMMARIZATION_MAX_LENGTH,\n",
        "    device = pt.device(\"cpu\"),\n",
        "    include_original = True,\n",
        "    **kwargs\n",
        "  ) :\n",
        "\n",
        "  title_tokens = summarization_tokenizer(\n",
        "      title, \n",
        "      return_tensors ='pt',\n",
        "      truncation = True, \n",
        "      max_length = tokenization_maximum_length\n",
        "    )\n",
        "\n",
        "  # summarize at approximately the same length as initial content\n",
        "  summarization_length = min(int(len(title_tokens['input_ids'][0]) * 1.25), SUMMARIZATION_MAX_LENGTH)\n",
        "\n",
        "  generated_ids = summarization_model.generate(\n",
        "        title_tokens['input_ids'].to(device),\n",
        "        max_length = summarization_length,\n",
        "        do_sample = True,\n",
        "        num_return_sequences = samples_returned,\n",
        "        **kwargs    \n",
        "    )\n",
        "  \n",
        "  generated_samples = summarization_tokenizer.batch_decode(\n",
        "      generated_ids, \n",
        "      skip_special_tokens=True\n",
        "    )\n",
        "\n",
        "  if (include_original) :\n",
        "    generated_samples = np.concatenate(([title], generated_samples))\n",
        "\n",
        "  return np.unique(generated_samples)"
      ]
    },
    {
      "cell_type": "code",
      "execution_count": 16,
      "metadata": {
        "id": "ACwEH9WFSjDa"
      },
      "outputs": [],
      "source": [
        "# create convenience paraphrasing function\n",
        "get_standard_paraphrased_title_samples = lambda title : get_paraphrased_title_samples (\n",
        "    paraphrasing_tokenizer,\n",
        "    paraphrasing_model,\n",
        "    title,\n",
        "    device = device,\n",
        "    top_k= 1000, #consider a large variety of candidates\n",
        "    top_p = 0.95, #consider a high probability limit for selecting the next token\n",
        "    temperature = 1.15, #allow a higher degree of variety \n",
        "    repetition_penalty = 100000.0, #force diverse results\n",
        "    early_stopping = True\n",
        ")"
      ]
    },
    {
      "cell_type": "code",
      "execution_count": 17,
      "metadata": {
        "colab": {
          "base_uri": "https://localhost:8080/",
          "height": 49,
          "referenced_widgets": [
            "cd114bd6bbf842f2b2174e4d17c73487",
            "6ff0c553aac44608ad77093375689d98",
            "50da133ab39748918abb794b059fe09d",
            "992ec5a12b3545068e58ff9483fd8183",
            "54f742d2a6554c02be61ba21f63605ff",
            "56c7e9767ec343e2aed637632209f2da",
            "24ef65730daa4aeb9dde3437bef02b79",
            "fc7d91eecd74458bb4a813f286df4679",
            "19fe4f2769f547e3aad760307dea68bb",
            "57d9d11f3602429b8906289389c1fc9d",
            "51cba67a3e4045639ed5c24ea2792254"
          ]
        },
        "id": "aB6qz0e_ftw4",
        "outputId": "ee929cb1-373f-4153-9c27-4584485d03bf"
      },
      "outputs": [
        {
          "output_type": "display_data",
          "data": {
            "text/plain": [
              "  0%|          | 0/1056 [00:00<?, ?it/s]"
            ],
            "application/vnd.jupyter.widget-view+json": {
              "version_major": 2,
              "version_minor": 0,
              "model_id": "cd114bd6bbf842f2b2174e4d17c73487"
            }
          },
          "metadata": {}
        }
      ],
      "source": [
        "\"\"\" Creates paraphrased titles from fake news dataframe\"\"\"\n",
        "def get_standard_paraphrased_title_samples_from_dataframe(item) :\n",
        "  paraphrased_content_data = get_standard_paraphrased_title_samples (\n",
        "      item[\"title\"]\n",
        "    )\n",
        "  \n",
        "  paraphrased_content_original_index = np.repeat(item[\"original_index\"], paraphrased_content_data.shape[0])\n",
        "\n",
        "  paraphrased_content_dataframe = pd.DataFrame({\n",
        "      \"original_index\": paraphrased_content_original_index,\n",
        "      \"paraphrased_title\": paraphrased_content_data\n",
        "  })\n",
        "\n",
        "  return paraphrased_content_dataframe\n",
        "\n",
        "# get paraphrased content from dataframe\n",
        "paraphrased_content = fake_news_data_frame.progress_apply(get_standard_paraphrased_title_samples_from_dataframe, axis = 1)\n",
        "paraphrased_samples_dataframe = pd.concat(paraphrased_content.values, ignore_index = True)\n",
        "\n",
        "# drop possible empty results \n",
        "paraphrased_samples_dataframe = paraphrased_samples_dataframe.replace(\"\", np.NAN).dropna()"
      ]
    },
    {
      "cell_type": "code",
      "execution_count": 18,
      "metadata": {
        "id": "62cWnsD3xbsk"
      },
      "outputs": [],
      "source": [
        "\"\"\" Creates a corrected version of the paraphrased title \"\"\"\n",
        "def get_corrected_title_sample (\n",
        "    correction_tokenizer,\n",
        "    correction_model,\n",
        "    title,\n",
        "    tokenization_maximum_length = SUMMARIZATION_MAX_LENGTH,\n",
        "    summarization_maximum_length = 2 * SUMMARIZATION_MAX_LENGTH,\n",
        "    device = pt.device(\"cpu\"),\n",
        "    **kwargs\n",
        "  ) :\n",
        "\n",
        "  title_tokens = correction_tokenizer(\n",
        "      title, \n",
        "      return_tensors='pt',\n",
        "      truncation=True, \n",
        "      max_length = tokenization_maximum_length\n",
        "    )\n",
        "\n",
        "  generated_ids = correction_model.generate(\n",
        "        title_tokens['input_ids'].to(device),\n",
        "        max_length = summarization_maximum_length,\n",
        "        do_sample = True,\n",
        "        **kwargs    \n",
        "    )\n",
        "  \n",
        "  generated_samples = correction_tokenizer.batch_decode(\n",
        "      generated_ids, \n",
        "      skip_special_tokens=True\n",
        "    )\n",
        "\n",
        "  corrected_sentences = \"\".join(generated_samples)\n",
        "  return corrected_sentences"
      ]
    },
    {
      "cell_type": "code",
      "execution_count": 19,
      "metadata": {
        "id": "0Yuuc4hj3Wg1"
      },
      "outputs": [],
      "source": [
        "# create the tokenizer and model used for correction\n",
        "correction_tokenizer = tsf.AutoTokenizer.from_pretrained(LLM_MODEL_CORRECTOR, use_fast = True)\n",
        "correction_model = tsf.AutoModelForSeq2SeqLM.from_pretrained(LLM_MODEL_CORRECTOR).to(device)"
      ]
    },
    {
      "cell_type": "code",
      "execution_count": 20,
      "metadata": {
        "id": "5iOUvWYDsTjJ"
      },
      "outputs": [],
      "source": [
        "# create convenience correction function\n",
        "get_standard_corrected_title_sample = lambda title : get_corrected_title_sample (\n",
        "    correction_tokenizer,\n",
        "    correction_model,\n",
        "    title,\n",
        "    device = device,\n",
        "    top_k= 1000, #consider a large variety of candidates\n",
        "    top_p = 0.95, #consider a high probability limit for selecting the next token\n",
        "    temperature = 0.95, #allow a lower degree of variety \n",
        "    early_stopping = True\n",
        ")"
      ]
    },
    {
      "cell_type": "code",
      "execution_count": 21,
      "metadata": {
        "id": "y8BHJQ3rtEdd",
        "colab": {
          "base_uri": "https://localhost:8080/",
          "height": 49,
          "referenced_widgets": [
            "ec246f30e62943cc8c054be2ea85100d",
            "4407f5816197469cb94d07333dd0617b",
            "22ea4206a0814fb8b3fbfac45ba8bf64",
            "28bfb5836d6d41beaf571e71e87001ed",
            "36fc706c48dd4c4a8be9f0a04e8652ae",
            "d778dc321b7849e8976cdbeb0fa7a3ac",
            "b6a0babe17e04752bd1a6f79ec03d917",
            "122debc653654e4c9f182e10a543e54e",
            "ee4c00c09342410d8dd82396d106c8f8",
            "b85fa1804058430c8356dc0787607b45",
            "478e877eab2544c19f7cec2b27b50098"
          ]
        },
        "outputId": "a16f4aab-d8f7-445c-850c-5799ac23cd98"
      },
      "outputs": [
        {
          "output_type": "display_data",
          "data": {
            "text/plain": [
              "  0%|          | 0/3297 [00:00<?, ?it/s]"
            ],
            "application/vnd.jupyter.widget-view+json": {
              "version_major": 2,
              "version_minor": 0,
              "model_id": "ec246f30e62943cc8c054be2ea85100d"
            }
          },
          "metadata": {}
        }
      ],
      "source": [
        "\"\"\" Creates corrected titles from paraphrased inputs\"\"\"\n",
        "def get_standard_corrected_title_samples_from_dataframe(item) :\n",
        "  corrected_content_data = get_standard_corrected_title_sample (\n",
        "      item[\"paraphrased_title\"]\n",
        "    )\n",
        "  \n",
        "  return corrected_content_data\n",
        "\n",
        "# get paraphrased content from dataframe\n",
        "corrected_content = paraphrased_samples_dataframe.progress_apply(get_standard_corrected_title_samples_from_dataframe, axis = 1)\n",
        "\n",
        "# drop possible empty results \n",
        "corrected_content = corrected_content.replace(\"\", np.NAN).dropna()"
      ]
    },
    {
      "cell_type": "code",
      "execution_count": 22,
      "metadata": {
        "id": "28Bxh7uDCe7q"
      },
      "outputs": [],
      "source": [
        "# create the dataframe for corrected content\n",
        "corrected_content_dataframe = pd.DataFrame({\n",
        "    \"original_index\": paraphrased_samples_dataframe[\"original_index\"].values,\n",
        "    \"paraphrased_title\": corrected_content\n",
        "})"
      ]
    },
    {
      "cell_type": "code",
      "execution_count": 23,
      "metadata": {
        "id": "wXLHGVScVNEn"
      },
      "outputs": [],
      "source": [
        "# save the processed data\n",
        "corrected_content_dataframe.to_csv(\n",
        "    \"./data/processed/paraphrased_titles.zip\",\n",
        "    compression = {\n",
        "        \"method\" : \"zip\", \n",
        "        \"archive_name\" : \"paraphrased_titles.csv\"\n",
        "    }\n",
        "  )"
      ]
    }
  ],
  "metadata": {
    "accelerator": "GPU",
    "colab": {
      "provenance": []
    },
    "gpuClass": "standard",
    "kernelspec": {
      "display_name": "Python 3",
      "name": "python3"
    },
    "language_info": {
      "codemirror_mode": {
        "name": "ipython",
        "version": 3
      },
      "file_extension": ".py",
      "mimetype": "text/x-python",
      "name": "python",
      "nbconvert_exporter": "python",
      "pygments_lexer": "ipython3",
      "version": "3.9.7"
    },
    "widgets": {
      "application/vnd.jupyter.widget-state+json": {
        "cd114bd6bbf842f2b2174e4d17c73487": {
          "model_module": "@jupyter-widgets/controls",
          "model_name": "HBoxModel",
          "model_module_version": "1.5.0",
          "state": {
            "_dom_classes": [],
            "_model_module": "@jupyter-widgets/controls",
            "_model_module_version": "1.5.0",
            "_model_name": "HBoxModel",
            "_view_count": null,
            "_view_module": "@jupyter-widgets/controls",
            "_view_module_version": "1.5.0",
            "_view_name": "HBoxView",
            "box_style": "",
            "children": [
              "IPY_MODEL_6ff0c553aac44608ad77093375689d98",
              "IPY_MODEL_50da133ab39748918abb794b059fe09d",
              "IPY_MODEL_992ec5a12b3545068e58ff9483fd8183"
            ],
            "layout": "IPY_MODEL_54f742d2a6554c02be61ba21f63605ff"
          }
        },
        "6ff0c553aac44608ad77093375689d98": {
          "model_module": "@jupyter-widgets/controls",
          "model_name": "HTMLModel",
          "model_module_version": "1.5.0",
          "state": {
            "_dom_classes": [],
            "_model_module": "@jupyter-widgets/controls",
            "_model_module_version": "1.5.0",
            "_model_name": "HTMLModel",
            "_view_count": null,
            "_view_module": "@jupyter-widgets/controls",
            "_view_module_version": "1.5.0",
            "_view_name": "HTMLView",
            "description": "",
            "description_tooltip": null,
            "layout": "IPY_MODEL_56c7e9767ec343e2aed637632209f2da",
            "placeholder": "​",
            "style": "IPY_MODEL_24ef65730daa4aeb9dde3437bef02b79",
            "value": "100%"
          }
        },
        "50da133ab39748918abb794b059fe09d": {
          "model_module": "@jupyter-widgets/controls",
          "model_name": "FloatProgressModel",
          "model_module_version": "1.5.0",
          "state": {
            "_dom_classes": [],
            "_model_module": "@jupyter-widgets/controls",
            "_model_module_version": "1.5.0",
            "_model_name": "FloatProgressModel",
            "_view_count": null,
            "_view_module": "@jupyter-widgets/controls",
            "_view_module_version": "1.5.0",
            "_view_name": "ProgressView",
            "bar_style": "success",
            "description": "",
            "description_tooltip": null,
            "layout": "IPY_MODEL_fc7d91eecd74458bb4a813f286df4679",
            "max": 1056,
            "min": 0,
            "orientation": "horizontal",
            "style": "IPY_MODEL_19fe4f2769f547e3aad760307dea68bb",
            "value": 1056
          }
        },
        "992ec5a12b3545068e58ff9483fd8183": {
          "model_module": "@jupyter-widgets/controls",
          "model_name": "HTMLModel",
          "model_module_version": "1.5.0",
          "state": {
            "_dom_classes": [],
            "_model_module": "@jupyter-widgets/controls",
            "_model_module_version": "1.5.0",
            "_model_name": "HTMLModel",
            "_view_count": null,
            "_view_module": "@jupyter-widgets/controls",
            "_view_module_version": "1.5.0",
            "_view_name": "HTMLView",
            "description": "",
            "description_tooltip": null,
            "layout": "IPY_MODEL_57d9d11f3602429b8906289389c1fc9d",
            "placeholder": "​",
            "style": "IPY_MODEL_51cba67a3e4045639ed5c24ea2792254",
            "value": " 1056/1056 [09:45&lt;00:00,  2.16it/s]"
          }
        },
        "54f742d2a6554c02be61ba21f63605ff": {
          "model_module": "@jupyter-widgets/base",
          "model_name": "LayoutModel",
          "model_module_version": "1.2.0",
          "state": {
            "_model_module": "@jupyter-widgets/base",
            "_model_module_version": "1.2.0",
            "_model_name": "LayoutModel",
            "_view_count": null,
            "_view_module": "@jupyter-widgets/base",
            "_view_module_version": "1.2.0",
            "_view_name": "LayoutView",
            "align_content": null,
            "align_items": null,
            "align_self": null,
            "border": null,
            "bottom": null,
            "display": null,
            "flex": null,
            "flex_flow": null,
            "grid_area": null,
            "grid_auto_columns": null,
            "grid_auto_flow": null,
            "grid_auto_rows": null,
            "grid_column": null,
            "grid_gap": null,
            "grid_row": null,
            "grid_template_areas": null,
            "grid_template_columns": null,
            "grid_template_rows": null,
            "height": null,
            "justify_content": null,
            "justify_items": null,
            "left": null,
            "margin": null,
            "max_height": null,
            "max_width": null,
            "min_height": null,
            "min_width": null,
            "object_fit": null,
            "object_position": null,
            "order": null,
            "overflow": null,
            "overflow_x": null,
            "overflow_y": null,
            "padding": null,
            "right": null,
            "top": null,
            "visibility": null,
            "width": null
          }
        },
        "56c7e9767ec343e2aed637632209f2da": {
          "model_module": "@jupyter-widgets/base",
          "model_name": "LayoutModel",
          "model_module_version": "1.2.0",
          "state": {
            "_model_module": "@jupyter-widgets/base",
            "_model_module_version": "1.2.0",
            "_model_name": "LayoutModel",
            "_view_count": null,
            "_view_module": "@jupyter-widgets/base",
            "_view_module_version": "1.2.0",
            "_view_name": "LayoutView",
            "align_content": null,
            "align_items": null,
            "align_self": null,
            "border": null,
            "bottom": null,
            "display": null,
            "flex": null,
            "flex_flow": null,
            "grid_area": null,
            "grid_auto_columns": null,
            "grid_auto_flow": null,
            "grid_auto_rows": null,
            "grid_column": null,
            "grid_gap": null,
            "grid_row": null,
            "grid_template_areas": null,
            "grid_template_columns": null,
            "grid_template_rows": null,
            "height": null,
            "justify_content": null,
            "justify_items": null,
            "left": null,
            "margin": null,
            "max_height": null,
            "max_width": null,
            "min_height": null,
            "min_width": null,
            "object_fit": null,
            "object_position": null,
            "order": null,
            "overflow": null,
            "overflow_x": null,
            "overflow_y": null,
            "padding": null,
            "right": null,
            "top": null,
            "visibility": null,
            "width": null
          }
        },
        "24ef65730daa4aeb9dde3437bef02b79": {
          "model_module": "@jupyter-widgets/controls",
          "model_name": "DescriptionStyleModel",
          "model_module_version": "1.5.0",
          "state": {
            "_model_module": "@jupyter-widgets/controls",
            "_model_module_version": "1.5.0",
            "_model_name": "DescriptionStyleModel",
            "_view_count": null,
            "_view_module": "@jupyter-widgets/base",
            "_view_module_version": "1.2.0",
            "_view_name": "StyleView",
            "description_width": ""
          }
        },
        "fc7d91eecd74458bb4a813f286df4679": {
          "model_module": "@jupyter-widgets/base",
          "model_name": "LayoutModel",
          "model_module_version": "1.2.0",
          "state": {
            "_model_module": "@jupyter-widgets/base",
            "_model_module_version": "1.2.0",
            "_model_name": "LayoutModel",
            "_view_count": null,
            "_view_module": "@jupyter-widgets/base",
            "_view_module_version": "1.2.0",
            "_view_name": "LayoutView",
            "align_content": null,
            "align_items": null,
            "align_self": null,
            "border": null,
            "bottom": null,
            "display": null,
            "flex": null,
            "flex_flow": null,
            "grid_area": null,
            "grid_auto_columns": null,
            "grid_auto_flow": null,
            "grid_auto_rows": null,
            "grid_column": null,
            "grid_gap": null,
            "grid_row": null,
            "grid_template_areas": null,
            "grid_template_columns": null,
            "grid_template_rows": null,
            "height": null,
            "justify_content": null,
            "justify_items": null,
            "left": null,
            "margin": null,
            "max_height": null,
            "max_width": null,
            "min_height": null,
            "min_width": null,
            "object_fit": null,
            "object_position": null,
            "order": null,
            "overflow": null,
            "overflow_x": null,
            "overflow_y": null,
            "padding": null,
            "right": null,
            "top": null,
            "visibility": null,
            "width": null
          }
        },
        "19fe4f2769f547e3aad760307dea68bb": {
          "model_module": "@jupyter-widgets/controls",
          "model_name": "ProgressStyleModel",
          "model_module_version": "1.5.0",
          "state": {
            "_model_module": "@jupyter-widgets/controls",
            "_model_module_version": "1.5.0",
            "_model_name": "ProgressStyleModel",
            "_view_count": null,
            "_view_module": "@jupyter-widgets/base",
            "_view_module_version": "1.2.0",
            "_view_name": "StyleView",
            "bar_color": null,
            "description_width": ""
          }
        },
        "57d9d11f3602429b8906289389c1fc9d": {
          "model_module": "@jupyter-widgets/base",
          "model_name": "LayoutModel",
          "model_module_version": "1.2.0",
          "state": {
            "_model_module": "@jupyter-widgets/base",
            "_model_module_version": "1.2.0",
            "_model_name": "LayoutModel",
            "_view_count": null,
            "_view_module": "@jupyter-widgets/base",
            "_view_module_version": "1.2.0",
            "_view_name": "LayoutView",
            "align_content": null,
            "align_items": null,
            "align_self": null,
            "border": null,
            "bottom": null,
            "display": null,
            "flex": null,
            "flex_flow": null,
            "grid_area": null,
            "grid_auto_columns": null,
            "grid_auto_flow": null,
            "grid_auto_rows": null,
            "grid_column": null,
            "grid_gap": null,
            "grid_row": null,
            "grid_template_areas": null,
            "grid_template_columns": null,
            "grid_template_rows": null,
            "height": null,
            "justify_content": null,
            "justify_items": null,
            "left": null,
            "margin": null,
            "max_height": null,
            "max_width": null,
            "min_height": null,
            "min_width": null,
            "object_fit": null,
            "object_position": null,
            "order": null,
            "overflow": null,
            "overflow_x": null,
            "overflow_y": null,
            "padding": null,
            "right": null,
            "top": null,
            "visibility": null,
            "width": null
          }
        },
        "51cba67a3e4045639ed5c24ea2792254": {
          "model_module": "@jupyter-widgets/controls",
          "model_name": "DescriptionStyleModel",
          "model_module_version": "1.5.0",
          "state": {
            "_model_module": "@jupyter-widgets/controls",
            "_model_module_version": "1.5.0",
            "_model_name": "DescriptionStyleModel",
            "_view_count": null,
            "_view_module": "@jupyter-widgets/base",
            "_view_module_version": "1.2.0",
            "_view_name": "StyleView",
            "description_width": ""
          }
        },
        "ec246f30e62943cc8c054be2ea85100d": {
          "model_module": "@jupyter-widgets/controls",
          "model_name": "HBoxModel",
          "model_module_version": "1.5.0",
          "state": {
            "_dom_classes": [],
            "_model_module": "@jupyter-widgets/controls",
            "_model_module_version": "1.5.0",
            "_model_name": "HBoxModel",
            "_view_count": null,
            "_view_module": "@jupyter-widgets/controls",
            "_view_module_version": "1.5.0",
            "_view_name": "HBoxView",
            "box_style": "",
            "children": [
              "IPY_MODEL_4407f5816197469cb94d07333dd0617b",
              "IPY_MODEL_22ea4206a0814fb8b3fbfac45ba8bf64",
              "IPY_MODEL_28bfb5836d6d41beaf571e71e87001ed"
            ],
            "layout": "IPY_MODEL_36fc706c48dd4c4a8be9f0a04e8652ae"
          }
        },
        "4407f5816197469cb94d07333dd0617b": {
          "model_module": "@jupyter-widgets/controls",
          "model_name": "HTMLModel",
          "model_module_version": "1.5.0",
          "state": {
            "_dom_classes": [],
            "_model_module": "@jupyter-widgets/controls",
            "_model_module_version": "1.5.0",
            "_model_name": "HTMLModel",
            "_view_count": null,
            "_view_module": "@jupyter-widgets/controls",
            "_view_module_version": "1.5.0",
            "_view_name": "HTMLView",
            "description": "",
            "description_tooltip": null,
            "layout": "IPY_MODEL_d778dc321b7849e8976cdbeb0fa7a3ac",
            "placeholder": "​",
            "style": "IPY_MODEL_b6a0babe17e04752bd1a6f79ec03d917",
            "value": "100%"
          }
        },
        "22ea4206a0814fb8b3fbfac45ba8bf64": {
          "model_module": "@jupyter-widgets/controls",
          "model_name": "FloatProgressModel",
          "model_module_version": "1.5.0",
          "state": {
            "_dom_classes": [],
            "_model_module": "@jupyter-widgets/controls",
            "_model_module_version": "1.5.0",
            "_model_name": "FloatProgressModel",
            "_view_count": null,
            "_view_module": "@jupyter-widgets/controls",
            "_view_module_version": "1.5.0",
            "_view_name": "ProgressView",
            "bar_style": "success",
            "description": "",
            "description_tooltip": null,
            "layout": "IPY_MODEL_122debc653654e4c9f182e10a543e54e",
            "max": 3297,
            "min": 0,
            "orientation": "horizontal",
            "style": "IPY_MODEL_ee4c00c09342410d8dd82396d106c8f8",
            "value": 3297
          }
        },
        "28bfb5836d6d41beaf571e71e87001ed": {
          "model_module": "@jupyter-widgets/controls",
          "model_name": "HTMLModel",
          "model_module_version": "1.5.0",
          "state": {
            "_dom_classes": [],
            "_model_module": "@jupyter-widgets/controls",
            "_model_module_version": "1.5.0",
            "_model_name": "HTMLModel",
            "_view_count": null,
            "_view_module": "@jupyter-widgets/controls",
            "_view_module_version": "1.5.0",
            "_view_name": "HTMLView",
            "description": "",
            "description_tooltip": null,
            "layout": "IPY_MODEL_b85fa1804058430c8356dc0787607b45",
            "placeholder": "​",
            "style": "IPY_MODEL_478e877eab2544c19f7cec2b27b50098",
            "value": " 3297/3297 [18:57&lt;00:00,  4.71it/s]"
          }
        },
        "36fc706c48dd4c4a8be9f0a04e8652ae": {
          "model_module": "@jupyter-widgets/base",
          "model_name": "LayoutModel",
          "model_module_version": "1.2.0",
          "state": {
            "_model_module": "@jupyter-widgets/base",
            "_model_module_version": "1.2.0",
            "_model_name": "LayoutModel",
            "_view_count": null,
            "_view_module": "@jupyter-widgets/base",
            "_view_module_version": "1.2.0",
            "_view_name": "LayoutView",
            "align_content": null,
            "align_items": null,
            "align_self": null,
            "border": null,
            "bottom": null,
            "display": null,
            "flex": null,
            "flex_flow": null,
            "grid_area": null,
            "grid_auto_columns": null,
            "grid_auto_flow": null,
            "grid_auto_rows": null,
            "grid_column": null,
            "grid_gap": null,
            "grid_row": null,
            "grid_template_areas": null,
            "grid_template_columns": null,
            "grid_template_rows": null,
            "height": null,
            "justify_content": null,
            "justify_items": null,
            "left": null,
            "margin": null,
            "max_height": null,
            "max_width": null,
            "min_height": null,
            "min_width": null,
            "object_fit": null,
            "object_position": null,
            "order": null,
            "overflow": null,
            "overflow_x": null,
            "overflow_y": null,
            "padding": null,
            "right": null,
            "top": null,
            "visibility": null,
            "width": null
          }
        },
        "d778dc321b7849e8976cdbeb0fa7a3ac": {
          "model_module": "@jupyter-widgets/base",
          "model_name": "LayoutModel",
          "model_module_version": "1.2.0",
          "state": {
            "_model_module": "@jupyter-widgets/base",
            "_model_module_version": "1.2.0",
            "_model_name": "LayoutModel",
            "_view_count": null,
            "_view_module": "@jupyter-widgets/base",
            "_view_module_version": "1.2.0",
            "_view_name": "LayoutView",
            "align_content": null,
            "align_items": null,
            "align_self": null,
            "border": null,
            "bottom": null,
            "display": null,
            "flex": null,
            "flex_flow": null,
            "grid_area": null,
            "grid_auto_columns": null,
            "grid_auto_flow": null,
            "grid_auto_rows": null,
            "grid_column": null,
            "grid_gap": null,
            "grid_row": null,
            "grid_template_areas": null,
            "grid_template_columns": null,
            "grid_template_rows": null,
            "height": null,
            "justify_content": null,
            "justify_items": null,
            "left": null,
            "margin": null,
            "max_height": null,
            "max_width": null,
            "min_height": null,
            "min_width": null,
            "object_fit": null,
            "object_position": null,
            "order": null,
            "overflow": null,
            "overflow_x": null,
            "overflow_y": null,
            "padding": null,
            "right": null,
            "top": null,
            "visibility": null,
            "width": null
          }
        },
        "b6a0babe17e04752bd1a6f79ec03d917": {
          "model_module": "@jupyter-widgets/controls",
          "model_name": "DescriptionStyleModel",
          "model_module_version": "1.5.0",
          "state": {
            "_model_module": "@jupyter-widgets/controls",
            "_model_module_version": "1.5.0",
            "_model_name": "DescriptionStyleModel",
            "_view_count": null,
            "_view_module": "@jupyter-widgets/base",
            "_view_module_version": "1.2.0",
            "_view_name": "StyleView",
            "description_width": ""
          }
        },
        "122debc653654e4c9f182e10a543e54e": {
          "model_module": "@jupyter-widgets/base",
          "model_name": "LayoutModel",
          "model_module_version": "1.2.0",
          "state": {
            "_model_module": "@jupyter-widgets/base",
            "_model_module_version": "1.2.0",
            "_model_name": "LayoutModel",
            "_view_count": null,
            "_view_module": "@jupyter-widgets/base",
            "_view_module_version": "1.2.0",
            "_view_name": "LayoutView",
            "align_content": null,
            "align_items": null,
            "align_self": null,
            "border": null,
            "bottom": null,
            "display": null,
            "flex": null,
            "flex_flow": null,
            "grid_area": null,
            "grid_auto_columns": null,
            "grid_auto_flow": null,
            "grid_auto_rows": null,
            "grid_column": null,
            "grid_gap": null,
            "grid_row": null,
            "grid_template_areas": null,
            "grid_template_columns": null,
            "grid_template_rows": null,
            "height": null,
            "justify_content": null,
            "justify_items": null,
            "left": null,
            "margin": null,
            "max_height": null,
            "max_width": null,
            "min_height": null,
            "min_width": null,
            "object_fit": null,
            "object_position": null,
            "order": null,
            "overflow": null,
            "overflow_x": null,
            "overflow_y": null,
            "padding": null,
            "right": null,
            "top": null,
            "visibility": null,
            "width": null
          }
        },
        "ee4c00c09342410d8dd82396d106c8f8": {
          "model_module": "@jupyter-widgets/controls",
          "model_name": "ProgressStyleModel",
          "model_module_version": "1.5.0",
          "state": {
            "_model_module": "@jupyter-widgets/controls",
            "_model_module_version": "1.5.0",
            "_model_name": "ProgressStyleModel",
            "_view_count": null,
            "_view_module": "@jupyter-widgets/base",
            "_view_module_version": "1.2.0",
            "_view_name": "StyleView",
            "bar_color": null,
            "description_width": ""
          }
        },
        "b85fa1804058430c8356dc0787607b45": {
          "model_module": "@jupyter-widgets/base",
          "model_name": "LayoutModel",
          "model_module_version": "1.2.0",
          "state": {
            "_model_module": "@jupyter-widgets/base",
            "_model_module_version": "1.2.0",
            "_model_name": "LayoutModel",
            "_view_count": null,
            "_view_module": "@jupyter-widgets/base",
            "_view_module_version": "1.2.0",
            "_view_name": "LayoutView",
            "align_content": null,
            "align_items": null,
            "align_self": null,
            "border": null,
            "bottom": null,
            "display": null,
            "flex": null,
            "flex_flow": null,
            "grid_area": null,
            "grid_auto_columns": null,
            "grid_auto_flow": null,
            "grid_auto_rows": null,
            "grid_column": null,
            "grid_gap": null,
            "grid_row": null,
            "grid_template_areas": null,
            "grid_template_columns": null,
            "grid_template_rows": null,
            "height": null,
            "justify_content": null,
            "justify_items": null,
            "left": null,
            "margin": null,
            "max_height": null,
            "max_width": null,
            "min_height": null,
            "min_width": null,
            "object_fit": null,
            "object_position": null,
            "order": null,
            "overflow": null,
            "overflow_x": null,
            "overflow_y": null,
            "padding": null,
            "right": null,
            "top": null,
            "visibility": null,
            "width": null
          }
        },
        "478e877eab2544c19f7cec2b27b50098": {
          "model_module": "@jupyter-widgets/controls",
          "model_name": "DescriptionStyleModel",
          "model_module_version": "1.5.0",
          "state": {
            "_model_module": "@jupyter-widgets/controls",
            "_model_module_version": "1.5.0",
            "_model_name": "DescriptionStyleModel",
            "_view_count": null,
            "_view_module": "@jupyter-widgets/base",
            "_view_module_version": "1.2.0",
            "_view_name": "StyleView",
            "description_width": ""
          }
        }
      }
    }
  },
  "nbformat": 4,
  "nbformat_minor": 0
}