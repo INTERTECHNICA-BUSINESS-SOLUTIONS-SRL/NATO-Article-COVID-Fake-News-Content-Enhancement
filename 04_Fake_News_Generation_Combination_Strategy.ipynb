{
  "cells": [
    {
      "cell_type": "code",
      "execution_count": 1,
      "metadata": {
        "colab": {
          "base_uri": "https://localhost:8080/"
        },
        "id": "hBZyjtFb8Rvj",
        "outputId": "cc52e9e1-71e4-4cb5-f5bf-006e40e709d1"
      },
      "outputs": [
        {
          "name": "stdout",
          "output_type": "stream",
          "text": [
            "Requirement already satisfied: requests_cache in d:\\anaconda3\\lib\\site-packages (1.0.1)\n",
            "Requirement already satisfied: attrs>=21.2 in d:\\anaconda3\\lib\\site-packages (from requests_cache) (22.1.0)\n",
            "Requirement already satisfied: cattrs>=22.2 in d:\\anaconda3\\lib\\site-packages (from requests_cache) (22.2.0)\n",
            "Requirement already satisfied: url-normalize>=1.4 in d:\\anaconda3\\lib\\site-packages (from requests_cache) (1.4.3)\n",
            "Requirement already satisfied: platformdirs>=2.5 in d:\\anaconda3\\lib\\site-packages (from requests_cache) (2.5.2)\n",
            "Requirement already satisfied: requests>=2.22 in d:\\anaconda3\\lib\\site-packages (from requests_cache) (2.28.1)\n",
            "Requirement already satisfied: urllib3>=1.25.5 in d:\\anaconda3\\lib\\site-packages (from requests_cache) (1.26.15)\n",
            "Requirement already satisfied: exceptiongroup in d:\\anaconda3\\lib\\site-packages (from cattrs>=22.2->requests_cache) (1.1.1)\n",
            "Requirement already satisfied: certifi>=2017.4.17 in d:\\anaconda3\\lib\\site-packages (from requests>=2.22->requests_cache) (2022.12.7)\n",
            "Requirement already satisfied: charset-normalizer<3,>=2 in d:\\anaconda3\\lib\\site-packages (from requests>=2.22->requests_cache) (2.0.4)\n",
            "Requirement already satisfied: idna<4,>=2.5 in d:\\anaconda3\\lib\\site-packages (from requests>=2.22->requests_cache) (3.4)\n",
            "Requirement already satisfied: six in d:\\anaconda3\\lib\\site-packages (from url-normalize>=1.4->requests_cache) (1.16.0)\n"
          ]
        }
      ],
      "source": [
        "!pip3 install requests_cache"
      ]
    },
    {
      "cell_type": "code",
      "execution_count": 2,
      "metadata": {
        "id": "SjGozYxJN4V0"
      },
      "outputs": [],
      "source": [
        "# import standard libraries\n",
        "import io\n",
        "import requests_cache as rqc\n",
        "import zipfile\n",
        "import numpy as np\n",
        "import pandas as pd\n",
        "import textwrap as tw"
      ]
    },
    {
      "cell_type": "code",
      "execution_count": 3,
      "metadata": {
        "colab": {
          "base_uri": "https://localhost:8080/"
        },
        "id": "QyPODWSS8a3X",
        "outputId": "81b76f79-2855-4fc8-d0e3-5a3597cb1863"
      },
      "outputs": [
        {
          "name": "stdout",
          "output_type": "stream",
          "text": [
            "ENVIRONMENT INFORMATION\n",
            "Using numpy version 1.23.5\n",
            "Using pandas version 1.5.3\n"
          ]
        }
      ],
      "source": [
        "# print environment information\n",
        "print(\"ENVIRONMENT INFORMATION\")\n",
        "print(\"Using numpy version %s\" % np.__version__)\n",
        "print(\"Using pandas version %s\" % pd.__version__)"
      ]
    },
    {
      "cell_type": "code",
      "execution_count": 4,
      "metadata": {
        "id": "XJoJdbT78a9q"
      },
      "outputs": [],
      "source": [
        "\"\"\" Reads the data from a remote zip file \"\"\"\n",
        "def get_data_from_remote_zip_file(file_url, file_name, index_col = None):\n",
        "\n",
        "  response = rqc.CachedSession().get(file_url)\n",
        "  binary_data = io.BytesIO(response.content)\n",
        "\n",
        "  raw_data = None\n",
        "\n",
        "  with zipfile.ZipFile(binary_data) as z:\n",
        "    with z.open(file_name) as f:\n",
        "      raw_data = pd.read_csv(f, index_col = index_col)\n",
        "      \n",
        "  return raw_data"
      ]
    },
    {
      "cell_type": "code",
      "execution_count": 5,
      "metadata": {
        "id": "fE_SHr8M8oLa"
      },
      "outputs": [],
      "source": [
        "# URL and FILE NAME for paraphrased titles\n",
        "PARAPHRASED_TITLES_URL = \"https://github.com/INTERTECHNICA-BUSINESS-SOLUTIONS-SRL/NATO-Article-COVID-Fake-News-Content-Enhancement/raw/main/data/processed/paraphrased_titles.zip\"\n",
        "PARAPHRASED_TITLES_FILE_NAME = \"paraphrased_titles.csv\"\n",
        "\n",
        "# obtain the paraphrased titles dataframe\n",
        "paraphrased_titles_data_frame = get_data_from_remote_zip_file(PARAPHRASED_TITLES_URL, PARAPHRASED_TITLES_FILE_NAME, index_col = 0)"
      ]
    },
    {
      "cell_type": "code",
      "execution_count": 6,
      "metadata": {
        "id": "o6S7ZGbu9TeK"
      },
      "outputs": [],
      "source": [
        "# URL and FILE NAME for summarized texts\n",
        "SUMMARIZED_TEXTS_URL = \"https://github.com/INTERTECHNICA-BUSINESS-SOLUTIONS-SRL/NATO-Article-COVID-Fake-News-Content-Enhancement/raw/main/data/processed/summarized_texts.zip\"\n",
        "SUMMARIZED_TEXTS_FILE_NAME = \"summarized_texts.csv\"\n",
        "\n",
        "# obtain the summarized texts dataframe\n",
        "summarized_texts_data_frame = get_data_from_remote_zip_file(SUMMARIZED_TEXTS_URL, SUMMARIZED_TEXTS_FILE_NAME, index_col = 0)"
      ]
    },
    {
      "cell_type": "code",
      "execution_count": 7,
      "metadata": {
        "id": "u-JuiUHE_hur"
      },
      "outputs": [],
      "source": [
        "# merge the paraphrased titles with the summarized texts\n",
        "# creating a new fully generated fake news per each\n",
        "# title and text pairing\n",
        "# practically we generate fake news by combining  \n",
        "# summarized content and paraphrased titles\n",
        "generated_fake_news_dataframe = paraphrased_titles_data_frame.merge(summarized_texts_data_frame, on = \"original_index\", how = \"inner\")"
      ]
    },
    {
      "cell_type": "code",
      "execution_count": 8,
      "metadata": {
        "id": "Dd2PGLj8KSzc"
      },
      "outputs": [],
      "source": [
        "# save the processed data\n",
        "generated_fake_news_dataframe.to_csv(\n",
        "    \"./data/processed/generated_fake_news.zip\",\n",
        "    compression = {\n",
        "        \"method\" : \"zip\", \n",
        "        \"archive_name\" : \"generated_fake_news.csv\"\n",
        "    }\n",
        "  )"
      ]
    },
    {
      "cell_type": "code",
      "execution_count": 9,
      "metadata": {
        "id": "SmT75WCtOM44"
      },
      "outputs": [],
      "source": [
        "\"\"\" Prints the fake news by extracting them from the dataframe \"\"\"\n",
        "def print_fake_news(fake_news_dataframe, original_fake_news_id) :\n",
        "  fake_news = fake_news_dataframe[fake_news_dataframe[\"original_index\"] == original_fake_news_id]\n",
        "  wrapper = tw.TextWrapper(width=100)\n",
        "  for _, fake_news_item in fake_news.iterrows() :\n",
        "    print(wrapper.fill(fake_news_item[\"paraphrased_title\"]))\n",
        "    print(\"=\" * 100)\n",
        "    print(wrapper.fill(fake_news_item[\"summarized_text\"]))\n",
        "    print(\"\\n\" * 2)\n",
        "\n",
        "# print the generated fake news \n",
        "print_generated_fake_news = lambda original_fake_news_id : \\\n",
        "  print_fake_news(generated_fake_news_dataframe, original_fake_news_id)"
      ]
    },
    {
      "cell_type": "code",
      "execution_count": 10,
      "metadata": {
        "colab": {
          "base_uri": "https://localhost:8080/"
        },
        "id": "Oe7T5G-DBJQr",
        "outputId": "6bf26af7-f60f-4c16-e822-7a5b7129bff9"
      },
      "outputs": [
        {
          "name": "stdout",
          "output_type": "stream",
          "text": [
            "A Michigan anti-locking group with 380,000 members has been deleted by Facebook.\n",
            "====================================================================================================\n",
            "Facebook has shuttered a popular group for Michiganders who oppose their governor’s extreme lockdown\n",
            "measures.<n>The move fuels debate about free speech during the coronavirus crisis and comes after\n",
            "thousands of cars drove around Lansing in 'Operation Gridlock' last month, encouraging protesters to\n",
            "drive bumper-to-9x9 on roads with no windows or doors so they would be blocked from passing other\n",
            "vehicles - an act known as Bumper Tobumper Roading (BTR) before being shut down by local police –\n",
            "which was later ruled not valid because it violated traffic laws but still attracted huge media\n",
            "attention when first revealed this week; Twitter users have also complained that BRT is now off\n",
            "limits following its popularity among state residents over Ebola fears — though social network\n",
            "officials say there are currently more than 1 million members across North American countries\n",
            "whereBRT exists: You can visit our site here!\n",
            "\n",
            "\n",
            "\n",
            "A Michigan anti-locking group with 380,000 members has been deleted by Facebook.\n",
            "====================================================================================================\n",
            "Facebook has shuttered a popular group for Michiganders who oppose their governor’s extreme lockdown\n",
            "measures.<n>The social media giant did not explain why it had closed the page, where more than\n",
            "380,000 people were part of its anti-lockdown movement in April and May - but is yet to provide an\n",
            "official reason behind this move as there are no details on how they ended up being shut down after\n",
            "just two months among other reasons that have never been made public before by officials or\n",
            "activists themselves: It comes amid debate about free speech during coronavirus crisis; one such\n",
            "protest last month was widely condemned with cars blocking major roads throughout Lansing while\n",
            "thousands gathered outside State Capitol demanding Governor Gretchen Whitmer be removed from office\n",
            "over her controversial'stay at home' order – which she later defended when quarantined residents\n",
            "tested negative against deadly H1N9 virus even though state health authorities said anyone found\n",
            "inside would likely die including children under\n",
            "\n",
            "\n",
            "\n",
            "Facebook DELETES MICHIGAN ANTI-LOCKDOWN GROUP WITH 380,000 MEMBERS.\n",
            "====================================================================================================\n",
            "Facebook has shuttered a popular group for Michiganders who oppose their governor’s extreme lockdown\n",
            "measures.<n>The move fuels debate about free speech during the coronavirus crisis and comes after\n",
            "thousands of cars drove around Lansing in 'Operation Gridlock' last month, encouraging protesters to\n",
            "drive bumper-to-9x9 on roads with no windows or doors so they would be blocked from passing other\n",
            "vehicles - an act known as Bumper Tobumper Roading (BTR) before being shut down by local police –\n",
            "which was later ruled not valid because it violated traffic laws but still attracted huge media\n",
            "attention when first revealed this week; Twitter users have also complained that BRT is now off\n",
            "limits following its popularity among state residents over Ebola fears — though social network\n",
            "officials say there are currently more than 1 million members across North American countries\n",
            "whereBRT exists: You can visit our site here!\n",
            "\n",
            "\n",
            "\n",
            "Facebook DELETES MICHIGAN ANTI-LOCKDOWN GROUP WITH 380,000 MEMBERS.\n",
            "====================================================================================================\n",
            "Facebook has shuttered a popular group for Michiganders who oppose their governor’s extreme lockdown\n",
            "measures.<n>The social media giant did not explain why it had closed the page, where more than\n",
            "380,000 people were part of its anti-lockdown movement in April and May - but is yet to provide an\n",
            "official reason behind this move as there are no details on how they ended up being shut down after\n",
            "just two months among other reasons that have never been made public before by officials or\n",
            "activists themselves: It comes amid debate about free speech during coronavirus crisis; one such\n",
            "protest last month was widely condemned with cars blocking major roads throughout Lansing while\n",
            "thousands gathered outside State Capitol demanding Governor Gretchen Whitmer be removed from office\n",
            "over her controversial'stay at home' order – which she later defended when quarantined residents\n",
            "tested negative against deadly H1N9 virus even though state health authorities said anyone found\n",
            "inside would likely die including children under\n",
            "\n",
            "\n",
            "\n",
            "The Michigan Anti-Lockdown group has 380,000 members.\n",
            "====================================================================================================\n",
            "Facebook has shuttered a popular group for Michiganders who oppose their governor’s extreme lockdown\n",
            "measures.<n>The move fuels debate about free speech during the coronavirus crisis and comes after\n",
            "thousands of cars drove around Lansing in 'Operation Gridlock' last month, encouraging protesters to\n",
            "drive bumper-to-9x9 on roads with no windows or doors so they would be blocked from passing other\n",
            "vehicles - an act known as Bumper Tobumper Roading (BTR) before being shut down by local police –\n",
            "which was later ruled not valid because it violated traffic laws but still attracted huge media\n",
            "attention when first revealed this week; Twitter users have also complained that BRT is now off\n",
            "limits following its popularity among state residents over Ebola fears — though social network\n",
            "officials say there are currently more than 1 million members across North American countries\n",
            "whereBRT exists: You can visit our site here!\n",
            "\n",
            "\n",
            "\n",
            "The Michigan Anti-Lockdown group has 380,000 members.\n",
            "====================================================================================================\n",
            "Facebook has shuttered a popular group for Michiganders who oppose their governor’s extreme lockdown\n",
            "measures.<n>The social media giant did not explain why it had closed the page, where more than\n",
            "380,000 people were part of its anti-lockdown movement in April and May - but is yet to provide an\n",
            "official reason behind this move as there are no details on how they ended up being shut down after\n",
            "just two months among other reasons that have never been made public before by officials or\n",
            "activists themselves: It comes amid debate about free speech during coronavirus crisis; one such\n",
            "protest last month was widely condemned with cars blocking major roads throughout Lansing while\n",
            "thousands gathered outside State Capitol demanding Governor Gretchen Whitmer be removed from office\n",
            "over her controversial'stay at home' order – which she later defended when quarantined residents\n",
            "tested negative against deadly H1N9 virus even though state health authorities said anyone found\n",
            "inside would likely die including children under\n",
            "\n",
            "\n",
            "\n"
          ]
        }
      ],
      "source": [
        "print_generated_fake_news(0)"
      ]
    }
  ],
  "metadata": {
    "colab": {
      "provenance": []
    },
    "kernelspec": {
      "display_name": "Python 3",
      "name": "python3"
    },
    "language_info": {
      "codemirror_mode": {
        "name": "ipython",
        "version": 3
      },
      "file_extension": ".py",
      "mimetype": "text/x-python",
      "name": "python",
      "nbconvert_exporter": "python",
      "pygments_lexer": "ipython3",
      "version": "3.9.7"
    }
  },
  "nbformat": 4,
  "nbformat_minor": 0
}
