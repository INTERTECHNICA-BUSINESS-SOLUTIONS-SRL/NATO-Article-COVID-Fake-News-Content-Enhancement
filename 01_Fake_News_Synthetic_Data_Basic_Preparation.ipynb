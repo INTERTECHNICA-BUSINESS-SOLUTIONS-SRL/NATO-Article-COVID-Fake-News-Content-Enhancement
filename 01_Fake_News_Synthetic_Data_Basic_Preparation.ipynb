{
 "cells": [
  {
   "cell_type": "code",
   "execution_count": 1,
   "metadata": {
    "colab": {
     "base_uri": "https://localhost:8080/"
    },
    "id": "xipDY2_7MA1i",
    "outputId": "252301ae-58dc-4dfe-da8e-210457dd6cb1"
   },
   "outputs": [
    {
     "name": "stdout",
     "output_type": "stream",
     "text": [
      "Requirement already satisfied: requests_cache in d:\\anaconda3\\lib\\site-packages (1.0.1)\n",
      "Requirement already satisfied: requests>=2.22 in d:\\anaconda3\\lib\\site-packages (from requests_cache) (2.28.1)\n",
      "Requirement already satisfied: urllib3>=1.25.5 in d:\\anaconda3\\lib\\site-packages (from requests_cache) (1.26.15)\n",
      "Requirement already satisfied: attrs>=21.2 in d:\\anaconda3\\lib\\site-packages (from requests_cache) (22.1.0)\n",
      "Requirement already satisfied: cattrs>=22.2 in d:\\anaconda3\\lib\\site-packages (from requests_cache) (22.2.0)\n",
      "Requirement already satisfied: url-normalize>=1.4 in d:\\anaconda3\\lib\\site-packages (from requests_cache) (1.4.3)\n",
      "Requirement already satisfied: platformdirs>=2.5 in d:\\anaconda3\\lib\\site-packages (from requests_cache) (2.5.2)\n",
      "Requirement already satisfied: exceptiongroup in d:\\anaconda3\\lib\\site-packages (from cattrs>=22.2->requests_cache) (1.1.1)\n",
      "Requirement already satisfied: charset-normalizer<3,>=2 in d:\\anaconda3\\lib\\site-packages (from requests>=2.22->requests_cache) (2.0.4)\n",
      "Requirement already satisfied: idna<4,>=2.5 in d:\\anaconda3\\lib\\site-packages (from requests>=2.22->requests_cache) (3.4)\n",
      "Requirement already satisfied: certifi>=2017.4.17 in d:\\anaconda3\\lib\\site-packages (from requests>=2.22->requests_cache) (2022.12.7)\n",
      "Requirement already satisfied: six in d:\\anaconda3\\lib\\site-packages (from url-normalize>=1.4->requests_cache) (1.16.0)\n"
     ]
    }
   ],
   "source": [
    "# install the necessary packages\n",
    "!pip3 install requests_cache"
   ]
  },
  {
   "cell_type": "code",
   "execution_count": 2,
   "metadata": {
    "id": "SjGozYxJN4V0"
   },
   "outputs": [],
   "source": [
    "# import standard libraries\n",
    "import io\n",
    "import zipfile\n",
    "import requests as rq\n",
    "import requests_cache as rqc\n",
    "import numpy as np\n",
    "import pandas as pd"
   ]
  },
  {
   "cell_type": "code",
   "execution_count": 3,
   "metadata": {
    "colab": {
     "base_uri": "https://localhost:8080/"
    },
    "id": "iPaKVEo94jOu",
    "outputId": "520bdf78-9f7a-4d36-d92a-75d25cbb1789"
   },
   "outputs": [
    {
     "name": "stdout",
     "output_type": "stream",
     "text": [
      "ENVIRONMENT INFORMATION\n",
      "Using numpy version 1.23.5\n",
      "Using pandas version 1.5.3\n"
     ]
    }
   ],
   "source": [
    "# print environment information\n",
    "print(\"ENVIRONMENT INFORMATION\")\n",
    "print(\"Using numpy version %s\" % np.__version__)\n",
    "print(\"Using pandas version %s\" % pd.__version__)"
   ]
  },
  {
   "cell_type": "code",
   "execution_count": 4,
   "metadata": {
    "id": "0Vu-JmNGDAwX"
   },
   "outputs": [],
   "source": [
    "# reads the data from a remote zip file\n",
    "def get_data_from_remote_zip_file(file_url, file_name):\n",
    "\n",
    "  response = rqc.CachedSession().get(file_url)\n",
    "  binary_data = io.BytesIO(response.content)\n",
    "\n",
    "  raw_data = None\n",
    "\n",
    "  with zipfile.ZipFile(binary_data) as z:\n",
    "    with z.open(file_name) as f:\n",
    "      raw_data = pd.read_csv(f)\n",
    "      \n",
    "  return raw_data\n",
    "\n",
    "# gets the fake news dataframe from raw data\n",
    "def get_fake_news_from_raw_data(raw_data) :\n",
    "  \n",
    "  fake_news_title = raw_data[\"title\"].copy()\n",
    "  fake_news_text = raw_data[\"text\"].copy()\n",
    "  fake_news_is_fake = raw_data[\"label\"] == 0\n",
    "\n",
    "  fake_news_data_frame = pd.DataFrame({\n",
    "      \"title\": fake_news_title,\n",
    "      \"text\": fake_news_text,\n",
    "      \"is_fake\": fake_news_is_fake\n",
    "  })\n",
    "\n",
    "  fake_news_data_frame = fake_news_data_frame[fake_news_data_frame[\"is_fake\"] == True]\n",
    "  fake_news_data_frame = fake_news_data_frame.drop(\"is_fake\", axis = 1) \n",
    "  fake_news_data_frame = fake_news_data_frame.replace(to_replace='None', value=np.nan).dropna()\n",
    "  fake_news_data_frame = fake_news_data_frame.reset_index()\n",
    "  fake_news_data_frame.columns = [\"original_index\", \"title\", \"text\"]\n",
    "\n",
    "  return fake_news_data_frame"
   ]
  },
  {
   "cell_type": "code",
   "execution_count": 5,
   "metadata": {
    "id": "3hfzxLwREiZb"
   },
   "outputs": [],
   "source": [
    "# URL and FILE NAME for fake news data\n",
    "FAKE_NEWS_URL = \"https://github.com/INTERTECHNICA-BUSINESS-SOLUTIONS-SRL/NATO-Article-COVID-Fake-News-Content-Enhancement/raw/main/data/original/fake_news_dataset.zip\"\n",
    "FAKE_NEWS_FILE_NAME = \"fake_news_dataset.csv\"\n",
    "\n",
    "# obtain the fake news dataframe\n",
    "raw_data = get_data_from_remote_zip_file(FAKE_NEWS_URL, FAKE_NEWS_FILE_NAME)\n",
    "fake_news_data_frame = get_fake_news_from_raw_data(raw_data)"
   ]
  },
  {
   "cell_type": "code",
   "execution_count": 7,
   "metadata": {
    "id": "Dd2PGLj8KSzc"
   },
   "outputs": [],
   "source": [
    "# save the processed data\n",
    "fake_news_data_frame.to_csv(\n",
    "    \"fake_news_data_preprocessed.zip\",\n",
    "    encoding = \"utf-8\",\n",
    "    compression = {\n",
    "        \"method\" : \"zip\", \n",
    "        \"archive_name\" : \"fake_news_data_preprocessed.csv\"\n",
    "    }\n",
    "  )"
   ]
  }
 ],
 "metadata": {
  "colab": {
   "provenance": []
  },
  "gpuClass": "standard",
  "kernelspec": {
   "display_name": "Python 3 (ipykernel)",
   "language": "python",
   "name": "python3"
  },
  "language_info": {
   "codemirror_mode": {
    "name": "ipython",
    "version": 3
   },
   "file_extension": ".py",
   "mimetype": "text/x-python",
   "name": "python",
   "nbconvert_exporter": "python",
   "pygments_lexer": "ipython3",
   "version": "3.9.7"
  }
 },
 "nbformat": 4,
 "nbformat_minor": 1
}
