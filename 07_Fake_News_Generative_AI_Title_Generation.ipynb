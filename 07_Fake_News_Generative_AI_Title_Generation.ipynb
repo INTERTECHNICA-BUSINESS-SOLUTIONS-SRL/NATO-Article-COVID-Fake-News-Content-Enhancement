{
  "cells": [
    {
      "cell_type": "code",
      "execution_count": 1,
      "metadata": {
        "id": "iE5KUlaakveQ",
        "colab": {
          "base_uri": "https://localhost:8080/"
        },
        "outputId": "4e6782cb-170a-4dcb-8230-d67917e34091"
      },
      "outputs": [
        {
          "output_type": "stream",
          "name": "stdout",
          "text": [
            "\u001b[2K     \u001b[90m━━━━━━━━━━━━━━━━━━━━━━━━━━━━━━━━━━━━━━━━\u001b[0m \u001b[32m58.7/58.7 kB\u001b[0m \u001b[31m1.9 MB/s\u001b[0m eta \u001b[36m0:00:00\u001b[0m\n",
            "\u001b[2K     \u001b[90m━━━━━━━━━━━━━━━━━━━━━━━━━━━━━━━━━━━━━━━━\u001b[0m \u001b[32m7.1/7.1 MB\u001b[0m \u001b[31m68.9 MB/s\u001b[0m eta \u001b[36m0:00:00\u001b[0m\n",
            "\u001b[2K     \u001b[90m━━━━━━━━━━━━━━━━━━━━━━━━━━━━━━━━━━━━━━\u001b[0m \u001b[32m224.5/224.5 kB\u001b[0m \u001b[31m22.2 MB/s\u001b[0m eta \u001b[36m0:00:00\u001b[0m\n",
            "\u001b[2K     \u001b[90m━━━━━━━━━━━━━━━━━━━━━━━━━━━━━━━━━━━━━━━━\u001b[0m \u001b[32m7.8/7.8 MB\u001b[0m \u001b[31m109.2 MB/s\u001b[0m eta \u001b[36m0:00:00\u001b[0m\n",
            "\u001b[?25h"
          ]
        }
      ],
      "source": [
        "!pip3 install -q requests_cache\n",
        "!pip3 install -q torch\n",
        "!pip3 install -q transformers"
      ]
    },
    {
      "cell_type": "code",
      "execution_count": 2,
      "metadata": {
        "id": "IdSyvlvQk8Y0"
      },
      "outputs": [],
      "source": [
        "# import standard libraries\n",
        "import random\n",
        "import os\n",
        "import io\n",
        "import requests_cache as rqc\n",
        "import numpy as np\n",
        "import pandas as pd\n",
        "import torch as pt\n",
        "import transformers as tsf"
      ]
    },
    {
      "cell_type": "code",
      "execution_count": 3,
      "metadata": {
        "colab": {
          "base_uri": "https://localhost:8080/"
        },
        "id": "Qex27Dx8lQP6",
        "outputId": "d3c1180e-4033-4e49-cb9c-ce3ff53d7695"
      },
      "outputs": [
        {
          "output_type": "stream",
          "name": "stdout",
          "text": [
            "ENVIRONMENT INFORMATION\n",
            "Using numpy version 1.22.4\n",
            "Using pandas version 1.5.3\n",
            "Using torch version 2.0.1+cu118\n",
            "Using transformers version 4.29.2\n"
          ]
        }
      ],
      "source": [
        "# print environment information\n",
        "print(\"ENVIRONMENT INFORMATION\")\n",
        "print(\"Using numpy version %s\" % np.__version__)\n",
        "print(\"Using pandas version %s\" % pd.__version__)\n",
        "print(\"Using torch version %s\" % pt.__version__)\n",
        "print(\"Using transformers version %s\" % tsf.__version__)"
      ]
    },
    {
      "cell_type": "code",
      "execution_count": 4,
      "metadata": {
        "colab": {
          "base_uri": "https://localhost:8080/"
        },
        "id": "-U-3JOn9lY2D",
        "outputId": "e9249011-14f0-4cf4-9591-04b0815b9d52"
      },
      "outputs": [
        {
          "output_type": "stream",
          "name": "stdout",
          "text": [
            "Using GPU acceleration\n",
            "Fri May 19 11:34:12 2023       \n",
            "+-----------------------------------------------------------------------------+\n",
            "| NVIDIA-SMI 525.85.12    Driver Version: 525.85.12    CUDA Version: 12.0     |\n",
            "|-------------------------------+----------------------+----------------------+\n",
            "| GPU  Name        Persistence-M| Bus-Id        Disp.A | Volatile Uncorr. ECC |\n",
            "| Fan  Temp  Perf  Pwr:Usage/Cap|         Memory-Usage | GPU-Util  Compute M. |\n",
            "|                               |                      |               MIG M. |\n",
            "|===============================+======================+======================|\n",
            "|   0  Tesla T4            Off  | 00000000:00:04.0 Off |                    0 |\n",
            "| N/A   34C    P8     9W /  70W |      3MiB / 15360MiB |      0%      Default |\n",
            "|                               |                      |                  N/A |\n",
            "+-------------------------------+----------------------+----------------------+\n",
            "                                                                               \n",
            "+-----------------------------------------------------------------------------+\n",
            "| Processes:                                                                  |\n",
            "|  GPU   GI   CI        PID   Type   Process name                  GPU Memory |\n",
            "|        ID   ID                                                   Usage      |\n",
            "|=============================================================================|\n",
            "|  No running processes found                                                 |\n",
            "+-----------------------------------------------------------------------------+\n"
          ]
        }
      ],
      "source": [
        "# determine available device\n",
        "device = pt.device(\"cpu\")\n",
        "if pt.cuda.is_available() :\n",
        "  device = pt.device(\"cuda\")\n",
        "  print(\"Using GPU acceleration\")\n",
        "  ! nvidia-smi\n",
        "else:\n",
        "  print(\"NOT using GPU acceleration\")"
      ]
    },
    {
      "cell_type": "code",
      "execution_count": 5,
      "metadata": {
        "id": "lNYE77PEcb9l"
      },
      "outputs": [],
      "source": [
        "# global configuration\n",
        "LLM_MODEL_GENERATOR = \"gpt2\"\n",
        "KEYWORDS_TOKENIZATION_SPACE_LENGTH = 32\n",
        "TITLE_TOKENIZATION_SPACE_LENGTH = 64\n",
        "SPECIAL_TOKENS  = { \n",
        "      \"pad_token\": \"<|pad|>\",\n",
        "      'additional_special_tokens': ['<keywords>', '<title>']\n",
        "    }\n",
        "\n",
        "# tokenizer files data\n",
        "FINE_TUNED_LLM_TOKENIZER_DIRECTORY = \"./model_checkpoint/tokenizer\"\n",
        "FINE_TUNED_LLM_TOKENIZER_URLS = [\n",
        "  \"https://github.com/INTERTECHNICA-BUSINESS-SOLUTIONS-SRL/NATO-Article-COVID-Fake-News-Content-Enhancement/raw/main/model_checkpoint/tokenizer/added_tokens.json\",\n",
        "  \"https://github.com/INTERTECHNICA-BUSINESS-SOLUTIONS-SRL/NATO-Article-COVID-Fake-News-Content-Enhancement/raw/main/model_checkpoint/tokenizer/merges.txt\",\n",
        "  \"https://github.com/INTERTECHNICA-BUSINESS-SOLUTIONS-SRL/NATO-Article-COVID-Fake-News-Content-Enhancement/raw/main/model_checkpoint/tokenizer/special_tokens_map.json\",\n",
        "  \"https://github.com/INTERTECHNICA-BUSINESS-SOLUTIONS-SRL/NATO-Article-COVID-Fake-News-Content-Enhancement/raw/main/model_checkpoint/tokenizer/tokenizer_config.json\",\n",
        "  \"https://github.com/INTERTECHNICA-BUSINESS-SOLUTIONS-SRL/NATO-Article-COVID-Fake-News-Content-Enhancement/raw/main/model_checkpoint/tokenizer/vocab.json\"\n",
        "]\n",
        "\n",
        "# model files data\n",
        "FINE_TUNED_LLM_MODEL_DIRECTORY = \"./model_checkpoint/model\"\n",
        "FINE_TUNED_LLM_MODEL_URLS = [\n",
        "  \"https://github.com/INTERTECHNICA-BUSINESS-SOLUTIONS-SRL/NATO-Article-COVID-Fake-News-Content-Enhancement/raw/main/model_checkpoint/model/config.json\",\n",
        "  \"https://github.com/INTERTECHNICA-BUSINESS-SOLUTIONS-SRL/NATO-Article-COVID-Fake-News-Content-Enhancement/raw/main/model_checkpoint/model/generation_config.json\",\n",
        "  \"https://github.com/INTERTECHNICA-BUSINESS-SOLUTIONS-SRL/NATO-Article-COVID-Fake-News-Content-Enhancement/raw/main/model_checkpoint/model/pytorch_model.bin\"\n",
        "]"
      ]
    },
    {
      "cell_type": "code",
      "execution_count": 6,
      "metadata": {
        "id": "-dyN3YmilgFk"
      },
      "outputs": [],
      "source": [
        "# global initialization - reproducibility\n",
        "random.seed(0)\n",
        "np.random.seed(0)\n",
        "pt.manual_seed(0)\n",
        "\n",
        "# disable unimportant warnings\n",
        "os.environ[\"HF_HUB_DISABLE_SYMLINKS_WARNING\"] = \"1\""
      ]
    },
    {
      "cell_type": "code",
      "source": [
        "\"Downloads a file to a target location\"\n",
        "def download_remote_file_to_target_location(\n",
        "    file_url,\n",
        "    target_location\n",
        "):\n",
        "\n",
        "  response = rqc.CachedSession().get(file_url)\n",
        "  binary_data = io.BytesIO(response.content).getbuffer()\n",
        "\n",
        "  target_file_name = os.path.basename(file_url)\n",
        "\n",
        "  os.makedirs(target_location, exist_ok=True)\n",
        "\n",
        "  with open(target_location + \"/\" + target_file_name, 'wb') as f:\n",
        "    f.write(binary_data)\n",
        " \n",
        "  return\n",
        "\n",
        "\"Downloads a set of files to a target location\"\n",
        "def download_remote_files_to_target_location(\n",
        "    file_urls,\n",
        "    target_location\n",
        "):\n",
        "\n",
        "  for file_url in file_urls :\n",
        "    download_remote_file_to_target_location(\n",
        "        file_url,\n",
        "        target_location\n",
        "  )  \n",
        "\n",
        "  return"
      ],
      "metadata": {
        "id": "xbYfQGijULmt"
      },
      "execution_count": 7,
      "outputs": []
    },
    {
      "cell_type": "code",
      "source": [
        "# download the tokenizer files locally\n",
        "download_remote_files_to_target_location(\n",
        "    FINE_TUNED_LLM_TOKENIZER_URLS,\n",
        "    FINE_TUNED_LLM_TOKENIZER_DIRECTORY\n",
        ")\n",
        "\n",
        "# download the model files locally\n",
        "download_remote_files_to_target_location(\n",
        "    FINE_TUNED_LLM_MODEL_URLS,\n",
        "    FINE_TUNED_LLM_MODEL_DIRECTORY\n",
        ")"
      ],
      "metadata": {
        "id": "jqz7dihMOTK_"
      },
      "execution_count": 8,
      "outputs": []
    },
    {
      "cell_type": "code",
      "execution_count": 9,
      "metadata": {
        "id": "BxMFRIK0u0MV"
      },
      "outputs": [],
      "source": [
        "# load the fine tuned text generation tokenizer\n",
        "text_generation_tokenizer = tsf.GPT2Tokenizer.from_pretrained(\n",
        "    FINE_TUNED_LLM_TOKENIZER_DIRECTORY\n",
        "  )\n",
        "\n",
        "# load the fine tuned text generation model\n",
        "text_generation_model = tsf.GPT2LMHeadModel.from_pretrained(\n",
        "    FINE_TUNED_LLM_MODEL_DIRECTORY\n",
        "  )\n",
        "text_generation_model = text_generation_model.to(device)"
      ]
    },
    {
      "cell_type": "code",
      "execution_count": 10,
      "metadata": {
        "id": "NxHWPbwl5rFn"
      },
      "outputs": [],
      "source": [
        "\"\"\" Tokenize data for text generation\"\"\"\n",
        "def tokenize_data_for_text_generation (\n",
        "    tokenizer, \n",
        "    keywords,\n",
        "    keywords_tokenization_space = KEYWORDS_TOKENIZATION_SPACE_LENGTH\n",
        "  ) :\n",
        "\n",
        "    # extract relevant token ids\n",
        "    keywords_token_id = tokenizer.additional_special_tokens_ids[0]\n",
        "    title_token_id = tokenizer.additional_special_tokens_ids[1]\n",
        "\n",
        "    # tokenize keywords\n",
        "    tokens_data =  [keywords_token_id] + tokenizer.encode(keywords, max_length = keywords_tokenization_space - 1, truncation = True) + [title_token_id]\n",
        "\n",
        "    # create token types data\n",
        "    token_types_data = [keywords_token_id] * len(tokens_data)\n",
        "   \n",
        "    tokenization_data = {\n",
        "        \"tokens_data\": tokens_data,\n",
        "        \"token_types_data\": token_types_data\n",
        "    }\n",
        "\n",
        "    return tokenization_data"
      ]
    },
    {
      "cell_type": "code",
      "source": [
        "\"\"\" Retrieves a generated title from the decoded generates sequences\"\"\"\n",
        "def get_generated_title (\n",
        "    generated_sequence,\n",
        "    title_token = text_generation_tokenizer.additional_special_tokens[1],\n",
        "    eos_token =  text_generation_tokenizer.eos_token\n",
        "  ) :\n",
        "\n",
        "  generated_title_sequence = generated_sequence.split(title_token)[1]\n",
        "  generated_title = generated_title_sequence.split(eos_token)[0]\n",
        "\n",
        "  return generated_title"
      ],
      "metadata": {
        "id": "BvD6P5PiTtxC"
      },
      "execution_count": 11,
      "outputs": []
    },
    {
      "cell_type": "code",
      "source": [
        "\"\"\"Generates fake news stories based on input keywords\"\"\"\n",
        "def get_generated_titles(\n",
        "    tokenizer,\n",
        "    model,\n",
        "    keywords,\n",
        "    num_sequences_to_generate = 1,\n",
        "    device = \"cpu\",\n",
        "    **kwargs\n",
        ") :\n",
        "\n",
        "  # perform text tokenization\n",
        "  gen_tokens = tokenize_data_for_text_generation(tokenizer, keywords)\n",
        "  input_ids = pt.tensor([gen_tokens[\"tokens_data\"]]).to(device)\n",
        "  token_type_ids = pt.tensor([gen_tokens[\"token_types_data\"]]).to(device)\n",
        "\n",
        "  # perform sequence generation\n",
        "  generated_data = text_generation_model.generate(\n",
        "    input_ids.to(device),\n",
        "    token_type_ids = token_type_ids,\n",
        "    pad_token_id = text_generation_tokenizer.pad_token_id,\n",
        "    max_length = KEYWORDS_TOKENIZATION_SPACE_LENGTH + 2 * TITLE_TOKENIZATION_SPACE_LENGTH, \n",
        "    num_return_sequences = num_sequences_to_generate,\n",
        "    **kwargs\n",
        "  )\n",
        "\n",
        "  # extract generated sequences\n",
        "  generated_sequences = text_generation_tokenizer.batch_decode(generated_data, skip_special_tokens = False) \n",
        "  generated_titles = list(map(get_generated_title, generated_sequences))\n",
        "\n",
        "  return generated_titles"
      ],
      "metadata": {
        "id": "df6ECadH4wSQ"
      },
      "execution_count": 16,
      "outputs": []
    },
    {
      "cell_type": "code",
      "source": [
        "\"\"\" Generate fake news stories titles regarding COVID-19 as a bioweapon\"\"\"\n",
        "keywords_bioweapon_fake_news = \"covid,Pentagon,military,bioweapon,warfare,biological,terror\"\n",
        "get_generated_titles (\n",
        "  text_generation_tokenizer,\n",
        "  text_generation_model,\n",
        "  keywords_bioweapon_fake_news,\n",
        "  num_sequences_to_generate = 10,\n",
        "  device = device,\n",
        "  do_sample = True,\n",
        "  top_p = 0.95,\n",
        "  top_k = 500,\n",
        "  temperature = 0.75,\n",
        "  penalty_alpha = 0,\n",
        "  repetition_penalty = 5.0,\n",
        "  no_repeat_ngram_size = 5,\n",
        "  remove_invalid_values = True\n",
        ")"
      ],
      "metadata": {
        "colab": {
          "base_uri": "https://localhost:8080/"
        },
        "id": "l0L1YftpU33Y",
        "outputId": "613361e5-dd56-443e-89f3-3e2652db72e7"
      },
      "execution_count": 65,
      "outputs": [
        {
          "output_type": "execute_result",
          "data": {
            "text/plain": [
              "[' The Pentagon is using COVID-19 to kill American citizens.',\n",
              " ' The White House says that the COVID-19 bioweapon is a biological weapon.',\n",
              " ' The Pentagon admitted that there was biological warfare.',\n",
              " ' The Pentagon claims that CovID-19 will not affect U.S.-China security and is lying when it says so!',\n",
              " ' The US and China are working together to defeat COVID-19.',\n",
              " ' The Pentagon and the White ',\n",
              " ' The Pentagon admits that the COVID-19 Biotechnology Threat is not present in its latest update.',\n",
              " ' The Pentagon admits that biological warfare has not been an issue.',\n",
              " ' The Pentagon does not have the legal right to launch a bioterror weapon.',\n",
              " ' Bio-weaponized drones may be used against the US.']"
            ]
          },
          "metadata": {},
          "execution_count": 65
        }
      ]
    },
    {
      "cell_type": "code",
      "source": [
        "\"\"\" Generate fake news stories titles regarding fear regarding COVID-19\"\"\"\n",
        "keywords_fear_fake_news = \"covid,corona,ncov,panic,despair,fear,pessimistic\"\n",
        "get_generated_titles (\n",
        "  text_generation_tokenizer,\n",
        "  text_generation_model,\n",
        "  keywords_fear_fake_news,\n",
        "  num_sequences_to_generate = 10,\n",
        "  device = device,\n",
        "  do_sample = True,\n",
        "  top_p = 0.95,\n",
        "  top_k = 10000,\n",
        "  temperature = 0.75,\n",
        "  penalty_alpha = 0.5,\n",
        "  repetition_penalty = 5.0,\n",
        "  remove_invalid_values = True\n",
        ")"
      ],
      "metadata": {
        "colab": {
          "base_uri": "https://localhost:8080/"
        },
        "id": "OIiRs2QwAQsD",
        "outputId": "07c39089-c3c4-4c6a-d0c5-43af3fe3ecd7"
      },
      "execution_count": 64,
      "outputs": [
        {
          "output_type": "execute_result",
          "data": {
            "text/plain": [
              "[\" FBI is warning of'shadow banking'\",\n",
              " ' I am worried about the Corona virus.',\n",
              " ' The devil is in the details.',\n",
              " ' The Corona virus is not a new one.',\n",
              " ' Experts fear that the coronaviruses could spell doom for humanity.',\n",
              " ' The coronaviruses have spread to China.',\n",
              " ' Is the coronaviruses real?',\n",
              " ' Two states are seeing a definite downward trend in the number of Americans who panic.',\n",
              " ' There is a real fear of the COVID-19.',\n",
              " ' The Panic Over Corona Virus.']"
            ]
          },
          "metadata": {},
          "execution_count": 64
        }
      ]
    },
    {
      "cell_type": "code",
      "source": [
        "\"\"\" Generate fake news stories titles regarding lockdowns generated by COVID-19\"\"\"\n",
        "keywords_lockdown_fake_news = \"coronavirus,isolation,lockdown,closed,cities,US,authorities\"\n",
        "get_generated_titles (\n",
        "  text_generation_tokenizer,\n",
        "  text_generation_model,\n",
        "  keywords_lockdown_fake_news,\n",
        "  num_sequences_to_generate = 10,\n",
        "  device = device,\n",
        "  do_sample = True,\n",
        "  top_p = 0.95,\n",
        "  top_k = 1000,\n",
        "  temperature = 0.75,\n",
        "  penalty_alpha = 1,\n",
        "  repetition_penalty = 5.0,\n",
        "  remove_invalid_values = True\n",
        ")"
      ],
      "metadata": {
        "colab": {
          "base_uri": "https://localhost:8080/"
        },
        "id": "Tpcp5frzBSIa",
        "outputId": "deeb8b26-3612-44ca-874a-0caec5041ebf"
      },
      "execution_count": 20,
      "outputs": [
        {
          "output_type": "execute_result",
          "data": {
            "text/plain": [
              "[' The US stays away from the Barcelona subway.',\n",
              " ' There is a lockdown at all US cities.',\n",
              " ' The US has a lock down.',\n",
              " ' Lock downs are not needed to combat the spread of COVID-19.',\n",
              " ' There were 20 cities in the US with at least one person dead or homeless.',\n",
              " \" The US stays away from the world leaders' plan to speed up COVID-19 drugs.\",\n",
              " ' The US Central Intelligence Agency (CIA) has closed off the country due to a dispute over visa restrictions.',\n",
              " ' Lock downs are the US response to COVID-19.',\n",
              " ' The US is in the middle of an international isolation.',\n",
              " ' Lockdowns are related to the US COVID-19 pandemic.']"
            ]
          },
          "metadata": {},
          "execution_count": 20
        }
      ]
    }
  ],
  "metadata": {
    "accelerator": "GPU",
    "colab": {
      "provenance": [],
      "gpuType": "T4"
    },
    "gpuClass": "standard",
    "kernelspec": {
      "display_name": "Python 3",
      "name": "python3"
    },
    "language_info": {
      "name": "python"
    }
  },
  "nbformat": 4,
  "nbformat_minor": 0
}